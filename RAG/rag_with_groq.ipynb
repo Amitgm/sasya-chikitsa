{
 "cells": [
  {
   "cell_type": "code",
   "execution_count": null,
   "id": "e57879ee",
   "metadata": {},
   "outputs": [
    {
     "name": "stderr",
     "output_type": "stream",
     "text": [
      "c:\\Users\\HP\\AppData\\Local\\Programs\\Python\\Python310\\lib\\site-packages\\tqdm\\auto.py:21: TqdmWarning: IProgress not found. Please update jupyter and ipywidgets. See https://ipywidgets.readthedocs.io/en/stable/user_install.html\n",
      "  from .autonotebook import tqdm as notebook_tqdm\n"
     ]
    }
   ],
   "source": [
    "from langchain_chroma import Chroma\n",
    "from langchain_groq import ChatGroq\n",
    "from langchain_core.prompts import PromptTemplate\n",
    "from langchain.embeddings import HuggingFaceEmbeddings\n",
    "from langchain.chains import RetrievalQA\n",
    "import os\n",
    "from langchain_huggingface import HuggingFaceEmbeddings\n",
    "from dotenv import load_dotenv"
   ]
  },
  {
   "cell_type": "code",
   "execution_count": 2,
   "id": "0e88703f",
   "metadata": {},
   "outputs": [],
   "source": [
    "load_dotenv()\n",
    "\n",
    "os.environ[\"GROQ_API_KEY\"] = os.getenv(\"GROQ_API_KEY\")"
   ]
  },
  {
   "cell_type": "markdown",
   "id": "b01fca67",
   "metadata": {},
   "source": [
    "#### Defining the model"
   ]
  },
  {
   "cell_type": "code",
   "execution_count": 3,
   "id": "ee5d5884",
   "metadata": {},
   "outputs": [
    {
     "name": "stderr",
     "output_type": "stream",
     "text": [
      "c:\\Users\\HP\\AppData\\Local\\Programs\\Python\\Python310\\lib\\site-packages\\langchain_groq\\chat_models.py:364: UserWarning: WARNING! top_p is not default parameter.\n",
      "                    top_p was transferred to model_kwargs.\n",
      "                    Please confirm that top_p is what you intended.\n",
      "  warnings.warn(\n"
     ]
    }
   ],
   "source": [
    "llm = ChatGroq(\n",
    "            temperature=1, \n",
    "            groq_api_key = os.environ[\"GROQ_API_KEY\"], \n",
    "            model_name=\"llama-3.1-8b-instant\",\n",
    "            max_tokens=600,\n",
    "            top_p=0.90,\n",
    "        #     frequency_penalty=1,\n",
    "        #     presence_penalty=1,\n",
    "    )"
   ]
  },
  {
   "cell_type": "markdown",
   "id": "89b1a89c",
   "metadata": {},
   "source": [
    "#### Embbeding and using vector database"
   ]
  },
  {
   "cell_type": "code",
   "execution_count": 4,
   "id": "0267ff70",
   "metadata": {},
   "outputs": [],
   "source": [
    "embedding = HuggingFaceEmbeddings(model_name=\"intfloat/multilingual-e5-large-instruct\",model_kwargs={\"device\": \"cuda\"})\n",
    "chroma_db = Chroma(\n",
    "    persist_directory=\"./chroma_capstone_db_new\",\n",
    "    embedding_function=embedding,\n",
    "    collection_name=\"Tomato\"  # Specify which collection to load\n",
    ")"
   ]
  },
  {
   "cell_type": "markdown",
   "id": "4717565e",
   "metadata": {},
   "source": [
    "### Chromadb as Retriever using mmr"
   ]
  },
  {
   "cell_type": "code",
   "execution_count": 5,
   "id": "63fca4f8",
   "metadata": {},
   "outputs": [
    {
     "name": "stderr",
     "output_type": "stream",
     "text": [
      "C:\\Users\\HP\\AppData\\Local\\Temp\\ipykernel_24156\\3181224039.py:4: LangChainDeprecationWarning: The method `BaseRetriever.get_relevant_documents` was deprecated in langchain-core 0.1.46 and will be removed in 1.0. Use :meth:`~invoke` instead.\n",
      "  chroma_retriever.get_relevant_documents(question)\n"
     ]
    },
    {
     "data": {
      "text/plain": [
       "[Document(id='3eb7f99e-c0ae-41a9-9b49-33183493dabb', metadata={'category': 'Tomato'}, page_content='DistrictName:JAMMU\\nStateName:JAMMU AND KASHMIR\\nSeason_English:Summer Cropping Season\\nMonth:July\\nDisease:Late_blight\\nQueryText:inforation regarding control of late blight in tomato\\nKccAns:spray indofil m45  25mllitre of water'),\n",
       " Document(id='015d7c8f-04c0-46c9-b5a4-2c5183412531', metadata={'category': 'Tomato'}, page_content='DistrictName:JAMMU\\nStateName:JAMMU AND KASHMIR\\nSeason_English:Summer Cropping Season\\nMonth:April\\nDisease:Late_blight\\nQueryText:farmer seeks information about the control of  late blight in tomato\\nKccAns:spray mancozeb 75 wp  25 gm  litre of water'),\n",
       " Document(id='294f8de4-bb06-4dc3-95f4-a176f171ee5c', metadata={'category': 'Tomato'}, page_content='DistrictName:BADGAM\\nStateName:JAMMU AND KASHMIR\\nSeason_English:nan\\nMonth:June\\nDisease:Late_blight\\nQueryText:late blight in tomato\\nKccAns:mancozeb 2gltr of water'),\n",
       " Document(id='54169f6e-84c5-4e53-9499-3dabbb200d97', metadata={'category': 'Tomato'}, page_content='DistrictName:BADGAM\\nStateName:JAMMU AND KASHMIR\\nSeason_English:Summer Cropping Season\\nMonth:June\\nDisease:Aphids\\nQueryText:control for aphids in tomato\\nKccAns:chlorpyriphos 2 ml in lt water'),\n",
       " Document(id='8fa90dce-6146-4834-8bbe-73b2febae6d1', metadata={'category': 'Tomato'}, page_content='DistrictName:SOLAN\\nStateName:HIMACHAL PRADESH\\nSeason_English:nan\\nMonth:July\\nDisease:Late_blight\\nQueryText:information regarding late blight in tomato\\nKccAns:spray curzate  2 ml per 1 liter of water'),\n",
       " Document(id='5b95cda0-8607-4c27-b87e-a0725a70ef9d', metadata={'category': 'Tomato'}, page_content='DistrictName:BANDIPORE\\nStateName:JAMMU AND KASHMIR\\nSeason_English:Monsoon Cropping Season\\nMonth:July\\nDisease:Late_blight\\nQueryText:late blight in tomato\\nKccAns:spray copper oxychloride 3gltr of water')]"
      ]
     },
     "execution_count": 5,
     "metadata": {},
     "output_type": "execute_result"
    }
   ],
   "source": [
    "question = \"give me the cure for tomato plant in Kashmir in the summer months\"\n",
    "chroma_retriever = chroma_db.as_retriever(search_type=\"mmr\", search_kwargs={\"k\": 6, \"fetch_k\":12})\n",
    "\n",
    "chroma_retriever.get_relevant_documents(question)"
   ]
  },
  {
   "cell_type": "markdown",
   "id": "0f6d9a06",
   "metadata": {},
   "source": [
    "#### Prompting"
   ]
  },
  {
   "cell_type": "code",
   "execution_count": 6,
   "id": "2688498b",
   "metadata": {},
   "outputs": [],
   "source": [
    "prompt_template = \"\"\"\n",
    "You are an agricultural assistant specialized in answering questions about plant diseases.  \n",
    "Your task is to provide answers strictly based on the provided context when possible.  \n",
    "\n",
    "Each document contains the following fields:  \n",
    "- DistrictName  \n",
    "- StateName  \n",
    "- Season_English  \n",
    "- Month  \n",
    "- Disease  \n",
    "- QueryText  \n",
    "- KccAns (this is the official response section from source documents)\n",
    "\n",
    "Guidelines for answering:\n",
    "1. If a relevant answer is available in KccAns, use that with minimal changes.\n",
    "2. Use DistrictName, StateName, Season_English, Month, and Disease only to help interpret the question and select the correct KccAns, but **do not include these details in the final answer unless the question explicitly asks for them**.  \n",
    "3. If the answer is not available in the context, then rely on your own agricultural knowledge to provide the best possible answer.  \n",
    "4. Do not invent or assume information when KccAns is present; only fall back to your own knowledge when the context has no suitable answer.  \n",
    "\n",
    "CONTEXT:\n",
    "{context}\n",
    "\n",
    "QUESTION:\n",
    "{question}\n",
    "\n",
    "OUTPUT:\n",
    "\"\"\"\n",
    "PROMPT = PromptTemplate(\n",
    "    template=prompt_template, input_variables=[\"context\", \"question\"]\n",
    ")\n",
    "chain_type_kwargs = {\"prompt\": PROMPT}"
   ]
  },
  {
   "cell_type": "markdown",
   "id": "b1c27b4f",
   "metadata": {},
   "source": [
    "#### Retriever"
   ]
  },
  {
   "cell_type": "code",
   "execution_count": 7,
   "id": "f04eccb7",
   "metadata": {},
   "outputs": [],
   "source": [
    "h_retrieval_QA1 = RetrievalQA.from_chain_type(\n",
    "    llm=llm,\n",
    "    chain_type=\"stuff\",\n",
    "    retriever=chroma_retriever,\n",
    "    input_key=\"query\",\n",
    "    return_source_documents=True,\n",
    "    chain_type_kwargs=chain_type_kwargs\n",
    ")"
   ]
  },
  {
   "cell_type": "code",
   "execution_count": 8,
   "id": "8fe48177",
   "metadata": {},
   "outputs": [
    {
     "name": "stdout",
     "output_type": "stream",
     "text": [
      "Based on the context provided, one document mentions the StateName as KARNATAKA and the Disease as Powdery_mildew, in the Month of May. \n",
      "\n",
      "The relevant KccAns is: \n",
      "\"Kolar, Karnataka, May, Powdery_mildew, Kolar, Karnataka, May, Powdery_mildew, QueryText: tomato powdery mildew, KccAns: spray wettable sulphur 2gliter general tonic 3mlliter\"\n",
      "\n",
      "Considering this, a common prescription for tomato plants in Karnataka (Karnataka) is: \n",
      "Spray wettable sulphur 2 grams per liter with a general tonic 3ml per liter.\n"
     ]
    }
   ],
   "source": [
    "question = \"What are some of the common prescriptions for tomato plants in Karnataka\"\n",
    "print(h_retrieval_QA1.invoke({\"query\": question})[\"result\"])"
   ]
  },
  {
   "cell_type": "code",
   "execution_count": 9,
   "id": "b74738b4",
   "metadata": {},
   "outputs": [
    {
     "name": "stdout",
     "output_type": "stream",
     "text": [
      "Based on the provided context, I see that there is a relevant answer for Fruit_borer in Tomato in Madhya Pradesh (SHIVPURI, MADHYA PRADESH, October). However, no suitable answer is available in the KccAns section.\n",
      "\n",
      "In that case, I'll rely on my own agricultural knowledge to provide a possible solution. Unfortunately, none of the given answers can be directly applied as the state is not mentioned in those. But generally, in the case of Fruit borer in Tomatoes, neem oil along with other systemic insecticides such as indoxacarb or emamectin benzoate can be effective in controlling the pest.\n",
      "\n",
      "However, since we cannot assume the exact pesticide or quantity needed, it's best to consult with a local agricultural expert in Madhya Pradesh who can provide more accurate and up-to-date information about the best treatment for Fruit borer in Tomatoes in the region.\n",
      "\n",
      "In the absence of specific recommendations for Madhya Pradesh, a general solution for Fruit borer in Tomato could be:\n",
      "- Indoxacarb at 10 ml per 15 liters of water (though this is based on a different state and may require verification for local efficacy).\n",
      "- Emamectin benzoate at a recommended dose (though this is also based on a different state and may require verification for local efficacy).\n",
      "\n",
      "Please note that these are general suggestions and not specific prescriptions for Madhya Pradesh. It is essential to consult with a local agricultural expert or the local agricultural department for accurate and region-specific advice.\n"
     ]
    }
   ],
   "source": [
    "Q2 = \"I have a Fruit borer in my Tomato, what prescriptions would you recommend in Madhya Pradesh\"\n",
    "print(h_retrieval_QA1.invoke({\"query\": Q2})[\"result\"])"
   ]
  }
 ],
 "metadata": {
  "kernelspec": {
   "display_name": "Python 3",
   "language": "python",
   "name": "python3"
  },
  "language_info": {
   "codemirror_mode": {
    "name": "ipython",
    "version": 3
   },
   "file_extension": ".py",
   "mimetype": "text/x-python",
   "name": "python",
   "nbconvert_exporter": "python",
   "pygments_lexer": "ipython3",
   "version": "3.10.0"
  }
 },
 "nbformat": 4,
 "nbformat_minor": 5
}
