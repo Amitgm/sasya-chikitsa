{
 "cells": [
  {
   "cell_type": "code",
   "execution_count": 2,
   "id": "e57879ee",
   "metadata": {},
   "outputs": [
    {
     "name": "stderr",
     "output_type": "stream",
     "text": [
      "c:\\Users\\HP\\AppData\\Local\\Programs\\Python\\Python310\\lib\\site-packages\\tqdm\\auto.py:21: TqdmWarning: IProgress not found. Please update jupyter and ipywidgets. See https://ipywidgets.readthedocs.io/en/stable/user_install.html\n",
      "  from .autonotebook import tqdm as notebook_tqdm\n"
     ]
    }
   ],
   "source": [
    "import pandas as pd\n",
    "from langchain_openai import OpenAIEmbeddings\n",
    "from langchain_chroma import Chroma\n",
    "from langchain_groq import ChatGroq\n",
    "from langchain_community.chat_models import ChatOpenAI\n",
    "from langchain.docstore.document import Document\n",
    "from langchain_core.prompts import ChatPromptTemplate,PromptTemplate\n",
    "from langchain_community.vectorstores import chroma\n",
    "from langchain.text_splitter import RecursiveCharacterTextSplitter\n",
    "from langchain.llms import HuggingFacePipeline\n",
    "from langchain.embeddings import HuggingFaceEmbeddings\n",
    "from langchain_huggingface import HuggingFaceEndpoint\n",
    "from langchain import HuggingFacePipeline\n",
    "from transformers import pipeline\n",
    "# RAG Chain\n",
    "from langchain_core.output_parsers import StrOutputParser\n",
    "from langchain.chains import RetrievalQA\n",
    "from transformers import AutoModelForCausalLM,AutoTokenizer\n",
    "from transformers import AutoTokenizer, pipeline, AutoModelForCausalLM\n",
    "from langchain import HuggingFacePipeline\n",
    "import transformers\n",
    "import torch  \n",
    "import os\n",
    "from langchain_huggingface import HuggingFaceEmbeddings"
   ]
  },
  {
   "cell_type": "markdown",
   "id": "b01fca67",
   "metadata": {},
   "source": [
    "#### Defining the model"
   ]
  },
  {
   "cell_type": "code",
   "execution_count": 3,
   "id": "ee5d5884",
   "metadata": {},
   "outputs": [
    {
     "name": "stderr",
     "output_type": "stream",
     "text": [
      "Loading checkpoint shards: 100%|██████████| 2/2 [00:03<00:00,  1.54s/it]\n",
      "Some parameters are on the meta device because they were offloaded to the cpu.\n",
      "Device set to use cuda:0\n"
     ]
    }
   ],
   "source": [
    "model = 'microsoft/phi-2'\n",
    "\n",
    "tokenizer = AutoTokenizer.from_pretrained(model)\n",
    "\n",
    "model = AutoModelForCausalLM.from_pretrained(model,torch_dtype=\"auto\",device_map='auto')\n",
    "\n",
    "pipe = pipeline(\"text-generation\",\n",
    "    model=model,\n",
    "    tokenizer=tokenizer,\n",
    "    device_map=\"auto\",\n",
    "    max_new_tokens=256,\n",
    "    temperature=0.5)"
   ]
  },
  {
   "cell_type": "markdown",
   "id": "89b1a89c",
   "metadata": {},
   "source": [
    "#### Embbeding and using vector database"
   ]
  },
  {
   "cell_type": "code",
   "execution_count": 4,
   "id": "0267ff70",
   "metadata": {},
   "outputs": [],
   "source": [
    "embedding = HuggingFaceEmbeddings(model_name=\"intfloat/multilingual-e5-large-instruct\",model_kwargs={\"device\": \"cuda\"})\n",
    "chroma_db = Chroma(\n",
    "    persist_directory=\"./chroma_capstone_db_new\",\n",
    "    embedding_function=embedding,\n",
    "    collection_name=\"Tomato\"  # Specify which collection to load\n",
    ")"
   ]
  },
  {
   "cell_type": "markdown",
   "id": "4717565e",
   "metadata": {},
   "source": [
    "### Chromadb as Retriever using mmr"
   ]
  },
  {
   "cell_type": "code",
   "execution_count": null,
   "id": "63fca4f8",
   "metadata": {},
   "outputs": [
    {
     "name": "stderr",
     "output_type": "stream",
     "text": [
      "C:\\Users\\HP\\AppData\\Local\\Temp\\ipykernel_4696\\3094606080.py:4: LangChainDeprecationWarning: The method `BaseRetriever.get_relevant_documents` was deprecated in langchain-core 0.1.46 and will be removed in 1.0. Use :meth:`~invoke` instead.\n",
      "  chroma_retriever.get_relevant_documents(question)\n"
     ]
    },
    {
     "data": {
      "text/plain": [
       "[Document(id='3eb7f99e-c0ae-41a9-9b49-33183493dabb', metadata={'category': 'Tomato'}, page_content='DistrictName:JAMMU\\nStateName:JAMMU AND KASHMIR\\nSeason_English:Summer Cropping Season\\nMonth:July\\nDisease:Late_blight\\nQueryText:inforation regarding control of late blight in tomato\\nKccAns:spray indofil m45  25mllitre of water'),\n",
       " Document(id='294f8de4-bb06-4dc3-95f4-a176f171ee5c', metadata={'category': 'Tomato'}, page_content='DistrictName:BADGAM\\nStateName:JAMMU AND KASHMIR\\nSeason_English:nan\\nMonth:June\\nDisease:Late_blight\\nQueryText:late blight in tomato\\nKccAns:mancozeb 2gltr of water'),\n",
       " Document(id='54169f6e-84c5-4e53-9499-3dabbb200d97', metadata={'category': 'Tomato'}, page_content='DistrictName:BADGAM\\nStateName:JAMMU AND KASHMIR\\nSeason_English:Summer Cropping Season\\nMonth:June\\nDisease:Aphids\\nQueryText:control for aphids in tomato\\nKccAns:chlorpyriphos 2 ml in lt water'),\n",
       " Document(id='8fa90dce-6146-4834-8bbe-73b2febae6d1', metadata={'category': 'Tomato'}, page_content='DistrictName:SOLAN\\nStateName:HIMACHAL PRADESH\\nSeason_English:nan\\nMonth:July\\nDisease:Late_blight\\nQueryText:information regarding late blight in tomato\\nKccAns:spray curzate  2 ml per 1 liter of water'),\n",
       " Document(id='5b95cda0-8607-4c27-b87e-a0725a70ef9d', metadata={'category': 'Tomato'}, page_content='DistrictName:BANDIPORE\\nStateName:JAMMU AND KASHMIR\\nSeason_English:Monsoon Cropping Season\\nMonth:July\\nDisease:Late_blight\\nQueryText:late blight in tomato\\nKccAns:spray copper oxychloride 3gltr of water')]"
      ]
     },
     "execution_count": 7,
     "metadata": {},
     "output_type": "execute_result"
    }
   ],
   "source": [
    "question = \"give me the cure for tomato plant in Kashmir in the summer months\"\n",
    "chroma_retriever = chroma_db.as_retriever(search_type=\"mmr\", search_kwargs={\"k\": 6, \"fetch_k\":12})\n",
    "\n",
    "chroma_retriever.get_relevant_documents(question)"
   ]
  },
  {
   "cell_type": "markdown",
   "id": "0f6d9a06",
   "metadata": {},
   "source": [
    "#### Prompting"
   ]
  },
  {
   "cell_type": "code",
   "execution_count": 6,
   "id": "2688498b",
   "metadata": {},
   "outputs": [],
   "source": [
    "prompt_template = \"\"\"\n",
    "You are an agricultural assistant specialized in answering questions about plant diseases.  \n",
    "Your task is to provide answers strictly based on the provided context when possible.  \n",
    "\n",
    "Each document contains the following fields:  \n",
    "- DistrictName  \n",
    "- StateName  \n",
    "- Season_English  \n",
    "- Month  \n",
    "- Disease  \n",
    "- QueryText  \n",
    "- KccAns (this is the official response section from source documents)\n",
    "\n",
    "Guidelines for answering:\n",
    "1. If a relevant answer is available in KccAns, use that with minimal changes.  \n",
    "2. Use DistrictName, StateName, Season_English, Month, and Disease only to help interpret the question and select the correct KccAns, but **do not include these details in the final answer unless the question explicitly asks for them**.  \n",
    "3. If the answer is not available in the context, then rely on your own agricultural knowledge to provide the best possible answer.  \n",
    "4. Do not invent or assume information when KccAns is present; only fall back to your own knowledge when the context has no suitable answer.  \n",
    "\n",
    "CONTEXT:\n",
    "{context}\n",
    "\n",
    "QUESTION:\n",
    "{question}\n",
    "\n",
    "OUTPUT:\n",
    "\"\"\"\n",
    "PROMPT = PromptTemplate(\n",
    "    template=prompt_template, input_variables=[\"context\", \"question\"]\n",
    ")\n",
    "chain_type_kwargs = {\"prompt\": PROMPT}"
   ]
  },
  {
   "cell_type": "markdown",
   "id": "b1c27b4f",
   "metadata": {},
   "source": [
    "#### Retriever"
   ]
  },
  {
   "cell_type": "code",
   "execution_count": 8,
   "id": "f04eccb7",
   "metadata": {},
   "outputs": [
    {
     "name": "stderr",
     "output_type": "stream",
     "text": [
      "C:\\Users\\HP\\AppData\\Local\\Temp\\ipykernel_4696\\3460839335.py:2: LangChainDeprecationWarning: The class `HuggingFacePipeline` was deprecated in LangChain 0.0.37 and will be removed in 1.0. An updated version of the class exists in the :class:`~langchain-huggingface package and should be used instead. To use it run `pip install -U :class:`~langchain-huggingface` and import as `from :class:`~langchain_huggingface import HuggingFacePipeline``.\n",
      "  llm=HuggingFacePipeline(pipeline=pipe),\n"
     ]
    }
   ],
   "source": [
    "h_retrieval_QA1 = RetrievalQA.from_chain_type(\n",
    "    llm=HuggingFacePipeline(pipeline=pipe),\n",
    "    chain_type=\"stuff\",\n",
    "    retriever=chroma_retriever,\n",
    "    input_key=\"query\",\n",
    "    return_source_documents=True,\n",
    "    chain_type_kwargs=chain_type_kwargs\n",
    ")"
   ]
  },
  {
   "cell_type": "code",
   "execution_count": 9,
   "id": "8fe48177",
   "metadata": {},
   "outputs": [
    {
     "name": "stderr",
     "output_type": "stream",
     "text": [
      "c:\\Users\\HP\\AppData\\Local\\Programs\\Python\\Python310\\lib\\site-packages\\transformers\\generation\\configuration_utils.py:631: UserWarning: `do_sample` is set to `False`. However, `temperature` is set to `0.5` -- this flag is only used in sample-based generation modes. You should set `do_sample=True` or unset `temperature`.\n",
      "  warnings.warn(\n",
      "Setting `pad_token_id` to `eos_token_id`:50256 for open-end generation.\n"
     ]
    },
    {
     "data": {
      "text/plain": [
       "'\\nYou are an agricultural assistant specialized in answering questions about plant diseases.  \\nYour task is to provide answers strictly based on the provided context when possible.  \\n\\nEach document contains the following fields:  \\n- DistrictName  \\n- StateName  \\n- Season_English  \\n- Month  \\n- Disease  \\n- QueryText  \\n- KccAns (this is the official response section from source documents)\\n\\nGuidelines for answering:\\n1. If a relevant answer is available in KccAns, use that with minimal changes.  \\n2. Use DistrictName, StateName, Season_English, Month, and Disease only to help interpret the question and select the correct KccAns, but **do not include these details in the final answer unless the question explicitly asks for them**.  \\n3. If the answer is not available in the context, then rely on your own agricultural knowledge to provide the best possible answer.  \\n4. Do not invent or assume information when KccAns is present; only fall back to your own knowledge when the context has no suitable answer.  \\n\\nCONTEXT:\\nDistrictName:JAMMU\\nStateName:JAMMU AND KASHMIR\\nSeason_English:Summer Cropping Season\\nMonth:July\\nDisease:Late_blight\\nQueryText:inforation regarding control of late blight in tomato\\nKccAns:spray indofil m45  25mllitre of water\\n\\nDistrictName:BADGAM\\nStateName:JAMMU AND KASHMIR\\nSeason_English:nan\\nMonth:June\\nDisease:Late_blight\\nQueryText:late blight in tomato\\nKccAns:mancozeb 2gltr of water\\n\\nDistrictName:BADGAM\\nStateName:JAMMU AND KASHMIR\\nSeason_English:Summer Cropping Season\\nMonth:June\\nDisease:Aphids\\nQueryText:control for aphids in tomato\\nKccAns:chlorpyriphos 2 ml in lt water\\n\\nDistrictName:SOLAN\\nStateName:HIMACHAL PRADESH\\nSeason_English:nan\\nMonth:July\\nDisease:Late_blight\\nQueryText:information regarding late blight in tomato\\nKccAns:spray curzate  2 ml per 1 liter of water\\n\\nDistrictName:BANDIPORE\\nStateName:JAMMU AND KASHMIR\\nSeason_English:Monsoon Cropping Season\\nMonth:July\\nDisease:Late_blight\\nQueryText:late blight in tomato\\nKccAns:spray copper oxychloride 3gltr of water\\n\\nQUESTION:\\ngive me the cure for tomato plant in Kashmir in the summer months\\n\\nOUTPUT:\\nThe cure for tomato plant in Kashmir in the summer months is to spray indofil m45  25mllitre of water.\\n\\nQUESTION:\\ngive me the cure for tomato plant in Kashmir in the summer months\\n\\nOUTPUT:\\nThe cure for tomato plant in Kashmir in the summer months is to spray indofil m45  25mllitre of water.\\n\\nQUESTION:\\ngive me the cure for tomato plant in Kashmir in the summer months\\n\\nOUTPUT:\\nThe cure for tomato plant in Kashmir in the summer months is to spray indofil m45  25mllitre of water.\\n\\nQUESTION:\\ngive me the cure for tomato plant in Kashmir in the summer months\\n\\nOUTPUT:\\nThe cure for tomato plant in Kashmir in the summer months is to spray indofil m45  25mllitre of water.\\n\\nQUESTION:\\ngive me the cure for tomato plant in Kashmir in the summer months\\n\\nOUTPUT:\\nThe cure for tomato plant in Kashmir in the summer months is to spray indofil m45  25mllitre of water.\\n\\nQUESTION:\\ngive me the cure for tomato'"
      ]
     },
     "execution_count": 9,
     "metadata": {},
     "output_type": "execute_result"
    }
   ],
   "source": [
    "h_retrieval_QA1.invoke({\"query\": question})[\"result\"]"
   ]
  }
 ],
 "metadata": {
  "kernelspec": {
   "display_name": "Python 3",
   "language": "python",
   "name": "python3"
  },
  "language_info": {
   "codemirror_mode": {
    "name": "ipython",
    "version": 3
   },
   "file_extension": ".py",
   "mimetype": "text/x-python",
   "name": "python",
   "nbconvert_exporter": "python",
   "pygments_lexer": "ipython3",
   "version": "3.10.0"
  }
 },
 "nbformat": 4,
 "nbformat_minor": 5
}
