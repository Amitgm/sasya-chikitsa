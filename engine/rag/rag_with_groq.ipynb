{
 "cells": [
  {
   "cell_type": "code",
   "execution_count": 1,
   "id": "e57879ee",
   "metadata": {},
   "outputs": [],
   "source": [
    "from langchain_chroma import Chroma\n",
    "from langchain_groq import ChatGroq\n",
    "from langchain_core.prompts import PromptTemplate\n",
    "from langchain.embeddings import HuggingFaceEmbeddings\n",
    "from langchain.chains import RetrievalQA\n",
    "import os\n",
    "from langchain_huggingface import HuggingFaceEmbeddings\n",
    "from dotenv import load_dotenv"
   ]
  },
  {
   "cell_type": "code",
   "execution_count": 2,
   "id": "0e88703f",
   "metadata": {},
   "outputs": [],
   "source": [
    "load_dotenv()\n",
    "\n",
    "os.environ[\"GROQ_API_KEY\"] = os.getenv(\"GROQ_API_KEY\")"
   ]
  },
  {
   "cell_type": "markdown",
   "id": "b01fca67",
   "metadata": {},
   "source": [
    "#### Defining the model"
   ]
  },
  {
   "cell_type": "code",
   "execution_count": 3,
   "id": "ee5d5884",
   "metadata": {},
   "outputs": [
    {
     "name": "stderr",
     "output_type": "stream",
     "text": [
      "c:\\Users\\HP\\AppData\\Local\\Programs\\Python\\Python310\\lib\\site-packages\\langchain_groq\\chat_models.py:364: UserWarning: WARNING! top_p is not default parameter.\n",
      "                    top_p was transferred to model_kwargs.\n",
      "                    Please confirm that top_p is what you intended.\n",
      "  warnings.warn(\n"
     ]
    }
   ],
   "source": [
    "llm = ChatGroq(\n",
    "            temperature=1, \n",
    "            groq_api_key = os.environ[\"GROQ_API_KEY\"], \n",
    "            model_name=\"llama-3.1-8b-instant\",\n",
    "            max_tokens=600,\n",
    "            top_p=0.90,\n",
    "        #     frequency_penalty=1,\n",
    "        #     presence_penalty=1,\n",
    "    )"
   ]
  },
  {
   "cell_type": "markdown",
   "id": "89b1a89c",
   "metadata": {},
   "source": [
    "#### Embbeding and using vector database"
   ]
  },
  {
   "cell_type": "code",
   "execution_count": 4,
   "id": "0267ff70",
   "metadata": {},
   "outputs": [
    {
     "name": "stderr",
     "output_type": "stream",
     "text": [
      "c:\\Users\\HP\\AppData\\Local\\Programs\\Python\\Python310\\lib\\site-packages\\tqdm\\auto.py:21: TqdmWarning: IProgress not found. Please update jupyter and ipywidgets. See https://ipywidgets.readthedocs.io/en/stable/user_install.html\n",
      "  from .autonotebook import tqdm as notebook_tqdm\n"
     ]
    }
   ],
   "source": [
    "embedding = HuggingFaceEmbeddings(model_name=\"multi-qa-MiniLM-L6-cos-v1\",model_kwargs={\"device\": \"cuda\"})\n",
    "chroma_db = Chroma(\n",
    "    persist_directory=\"./chroma_capstone_db_new_small\",\n",
    "    embedding_function=embedding,\n",
    "    collection_name=\"Tomato\"  # Specify which collection to load czx\n",
    ")"
   ]
  },
  {
   "cell_type": "code",
   "execution_count": null,
   "id": "aa2ada82",
   "metadata": {},
   "outputs": [],
   "source": []
  },
  {
   "cell_type": "markdown",
   "id": "4717565e",
   "metadata": {},
   "source": [
    "### Chromadb as Retriever using mmr"
   ]
  },
  {
   "cell_type": "code",
   "execution_count": 5,
   "id": "63fca4f8",
   "metadata": {},
   "outputs": [
    {
     "name": "stderr",
     "output_type": "stream",
     "text": [
      "C:\\Users\\HP\\AppData\\Local\\Temp\\ipykernel_22112\\3181224039.py:4: LangChainDeprecationWarning: The method `BaseRetriever.get_relevant_documents` was deprecated in langchain-core 0.1.46 and will be removed in 1.0. Use :meth:`~invoke` instead.\n",
      "  chroma_retriever.get_relevant_documents(question)\n"
     ]
    },
    {
     "data": {
      "text/plain": [
       "[Document(id='7a4e23f8-cc6d-4858-bafa-104203d9dde8', metadata={'StateName': 'ASSAM', 'disease_name': 'Late blight'}, page_content='DistrictName:DHUBRI\\nStateName:ASSAM\\nSeason_English:Monsoon Crop\\nMonth:November\\nDisease:Late blight\\nQueryText:ASKING FOR ANY PLANT PROTECTION MEASURES TO BE ADOPTED AGAINST LATE BLIGHT DISEASE IN TOMATO\\nKccAns:INDOFIL M-45 SOLUTION  25 GRAMS PER 1 LITRE OF WATER HAS BEEN SUGGESTED TO SPRAY ON THE CROP AT THE FOLLOWING STAGES: 1 FIRST AT 30 DAYS AFTER TRANSPLANTING 2 SECOND AT 60 DAYS AFTER TRANSPLANTING AND 3 THIRD AT 90 DAYS AFTER TRANSPLANTING AS THE PLANT PROTECTION MEASURES TO BE ADOPTED AGAINST LATE BLIGHT DISEASE IN TOMATO'),\n",
       " Document(id='2740b954-c961-4c6b-96bc-a5e30e496354', metadata={'StateName': 'JAMMU AND KASHMIR', 'disease_name': 'Aphids'}, page_content='DistrictName:BADGAM\\nStateName:JAMMU AND KASHMIR\\nSeason_English:Monsoon Crop\\nMonth:April\\nDisease:Aphids\\nQueryText:HOW TO CONTROL APHIDS IN THGE SEEDLINGS OF TOMATO \\nKccAns:SPRAY MELATHION 50 EC  1 ML IN 1 LITER OF WATER'),\n",
       " Document(id='43001f55-7da4-4ffc-a841-11a31266fe56', metadata={'disease_name': 'Fruit borer', 'StateName': 'JAMMU AND KASHMIR'}, page_content='DistrictName:BADGAM\\nStateName:JAMMU AND KASHMIR\\nSeason_English:Winter Crop\\nMonth:April\\nDisease:Fruit borer\\nQueryText:HOW TO CONTROL FRUIT BORER IN TOMATO \\nKccAns:SPRAY COPPER OXYCHLIORIDE 50 EC  2 ML IN 1 LITER OF WATER '),\n",
       " Document(id='9c1ad2ff-c10f-43f3-aef1-c7fe5c2e58d7', metadata={'disease_name': 'Late blight', 'StateName': 'JAMMU AND KASHMIR'}, page_content='DistrictName:PULWAMA\\nStateName:JAMMU AND KASHMIR\\nSeason_English:Residual Crop\\nMonth:June\\nDisease:Late blight\\nQueryText:HOW TO CONTROL LATE BLIGHT IN TOMATO \\nKccAns:SPRAY WITH INDOFIL M-45  2GMLITRE OF WATER AND REPEAT THE DOSE AFTER 15 DAYS'),\n",
       " Document(id='ebf284e1-44ae-4f8d-8497-b8ca359fc0a4', metadata={'disease_name': 'Late blight', 'StateName': 'ASSAM'}, page_content='DistrictName:DIBRUGARH\\nStateName:ASSAM\\nSeason_English:Monsoon Crop\\nMonth:November\\nDisease:Late blight\\nQueryText:ASKING FOR ANY PLANT PROTECTION MEASURES AGAINST LATE BLIGHT IN TOMATO\\nKccAns:SUGGESTED TO SPRAY DITHANE M-45 SOLUTION  25 GRAMLITRE OF WATER ALTERNATING WITH RIDOMIL MZ-72 SOLUTION  2 GRAMLITRE OF WATER FIRST TO BE SPRAYED AT 1 MONTH AFTER TRANSPLANTING 2ND SPRAY AFTER 2 MONTHS OF TRANSPLANTING AND THE 3RD SPRAY AFTER 3 MONTHS FROM TRANSPLANTING'),\n",
       " Document(id='f1d79d41-d75d-4710-8cfd-8cd4424d63f3', metadata={'StateName': 'JAMMU AND KASHMIR', 'disease_name': 'Leaf miner'}, page_content='DistrictName:PULWAMA\\nStateName:JAMMU AND KASHMIR\\nSeason_English:Monsoon Crop\\nMonth:January\\nDisease:Leaf miner\\nQueryText:CONTROL OF LEAF MINER IN TOMATO PLANT \\nKccAns:SPRAY ROGOR  25GMLITRE OF WATER REPEAT THE SPRAY AT 10 DAYS OF INTERVAL ')]"
      ]
     },
     "execution_count": 5,
     "metadata": {},
     "output_type": "execute_result"
    }
   ],
   "source": [
    "question = \"give me the cure for tomato plant in Kashmir in the summer months\"\n",
    "chroma_retriever = chroma_db.as_retriever(search_type=\"mmr\", search_kwargs={\"k\": 6, \"fetch_k\":12})\n",
    "\n",
    "chroma_retriever.get_relevant_documents(question)"
   ]
  },
  {
   "cell_type": "markdown",
   "id": "0f6d9a06",
   "metadata": {},
   "source": [
    "#### Prompting"
   ]
  },
  {
   "cell_type": "code",
   "execution_count": 6,
   "id": "2688498b",
   "metadata": {},
   "outputs": [],
   "source": [
    "prompt_template = \"\"\"\n",
    "You are an agricultural assistant specialized in answering questions about plant diseases.  \n",
    "Your task is to provide answers strictly based on the provided context when possible.  \n",
    "\n",
    "Each document contains the following fields:  \n",
    "- DistrictName  \n",
    "- StateName  \n",
    "- Season_English  \n",
    "- Month  \n",
    "- Disease  \n",
    "- QueryText  \n",
    "- KccAns (this is the official response section from source documents)\n",
    "\n",
    "Guidelines for answering:\n",
    "1. If a relevant answer is available in KccAns, use that with minimal changes.\n",
    "2. Use DistrictName, StateName, Season_English, Month, and Disease only to help interpret the question and select the correct KccAns, but **do not include these details in the final answer unless the question explicitly asks for them**.  \n",
    "3. If the answer is not available in the context, then rely on your own agricultural knowledge to provide the best possible answer.  \n",
    "4. Do not invent or assume information when KccAns is present; only fall back to your own knowledge when the context has no suitable answer.  \n",
    "\n",
    "CONTEXT:\n",
    "{context}\n",
    "\n",
    "QUESTION:\n",
    "{question}\n",
    "\n",
    "OUTPUT:\n",
    "\"\"\"\n",
    "PROMPT = PromptTemplate(\n",
    "    template=prompt_template, input_variables=[\"context\", \"question\"]\n",
    ")\n",
    "chain_type_kwargs = {\"prompt\": PROMPT}"
   ]
  },
  {
   "cell_type": "markdown",
   "id": "b1c27b4f",
   "metadata": {},
   "source": [
    "#### Retriever"
   ]
  },
  {
   "cell_type": "code",
   "execution_count": 7,
   "id": "f04eccb7",
   "metadata": {},
   "outputs": [],
   "source": [
    "h_retrieval_QA1 = RetrievalQA.from_chain_type(\n",
    "    llm=llm,\n",
    "    chain_type=\"stuff\",\n",
    "    retriever=chroma_retriever,\n",
    "    input_key=\"query\",\n",
    "    return_source_documents=True,\n",
    "    chain_type_kwargs=chain_type_kwargs\n",
    ")"
   ]
  },
  {
   "cell_type": "code",
   "execution_count": 8,
   "id": "8fe48177",
   "metadata": {},
   "outputs": [
    {
     "name": "stdout",
     "output_type": "stream",
     "text": [
      "Based on the provided context, the following are some common prescriptions for tomato plants in Karnataka:\n",
      "\n",
      "1. For Early and Late Blight of Tomato:\n",
      "   - Drench 0.5g K-cyclene or 0.5g Streptocyclene with 30g Copper oxychloride in a liter of water at the base of the affected plants.\n",
      "   - Spray 20g Dimethomorph (Polyram) in a liter of water 5 weeks after transplanting.\n",
      "   - Repeat the spray on the 7th, 9th, and 11th weeks after transplanting.\n",
      "   - 200-250 liters of spray solution required per acre.\n",
      "\n",
      "2. For Late Blight in Tomato:\n",
      "   - Metalaxyl-M 4 + Mancozeb 64 WG - 2g/liter OR Chlorothalonil 250g/100Ltr of water.\n",
      "\n",
      "3. For Leaf Miner in Tomato:\n",
      "   - Spray 20ml Triazophos 40 EC/liter of water.\n",
      "\n",
      "4. For Fruit Borer in Tomato:\n",
      "   - Spray Chlorantraniliprole 5ml/10Ltr of water.\n",
      "\n",
      "Note that these prescriptions are based on the provided context and might not be an exhaustive list of all possible treatments for tomato plants in Karnataka. It is always best to consult with a qualified agricultural expert for personalized advice.\n"
     ]
    }
   ],
   "source": [
    "question = \"What are some of the common prescriptions for tomato plants in Karnataka\"\n",
    "print(h_retrieval_QA1.invoke({\"query\": question})[\"result\"])"
   ]
  },
  {
   "cell_type": "code",
   "execution_count": 9,
   "id": "b74738b4",
   "metadata": {},
   "outputs": [
    {
     "name": "stdout",
     "output_type": "stream",
     "text": [
      "Since you have a fruit borer in your tomato crop and you are in Madhya Pradesh, I will rely on the provided context to find the most suitable answer. \n",
      "\n",
      "Upon reviewing the given contexts, I found that there are several recommendations for controlling fruit borer in tomato crops in Madhya Pradesh. \n",
      "\n",
      "Some of the recommended prescriptions are:\n",
      "\n",
      "- Use recommended dose of chloropyriphos 20EC 800 ML to 1 liter mixed in 8-10 kg of sand and broad cast in 1 acre of field and Carbosulfan 25 EC 25-30 ml per pump.\n",
      "- Spray Indoxacarb 145 SC 10-12 ML per sprayer or Flubendiamide 480 SC 4-5 ML per sprayer.\n",
      "- Use Indoxacarb 145 SC 10 ml per 15 liters of water.\n",
      "- Spray the solution of Quinalphose 25EC 1 ml per liter, Indoxacarb 145 SC 13-15 ml per pump, Trizophos 30ml per pump, chlorpyriphos 1ml per liter, or Emamectin benzoate 5 SG.\n",
      "- Spray Trizofose 30 ml per pump.\n",
      "\n",
      "These prescriptions are based on the given contexts and are suitable for controlling fruit borer in tomato crops in Madhya Pradesh. However, it is essential to consult with a local agricultural expert or the relevant authorities for the most up-to-date and region-specific advice.\n"
     ]
    }
   ],
   "source": [
    "Q2 = \"I have a Fruit borer in my Tomato, what prescriptions would you recommend in Madhya Pradesh\"\n",
    "print(h_retrieval_QA1.invoke({\"query\": Q2})[\"result\"])"
   ]
  }
 ],
 "metadata": {
  "kernelspec": {
   "display_name": "Python 3",
   "language": "python",
   "name": "python3"
  },
  "language_info": {
   "codemirror_mode": {
    "name": "ipython",
    "version": 3
   },
   "file_extension": ".py",
   "mimetype": "text/x-python",
   "name": "python",
   "nbconvert_exporter": "python",
   "pygments_lexer": "ipython3",
   "version": "3.10.0"
  }
 },
 "nbformat": 4,
 "nbformat_minor": 5
}
