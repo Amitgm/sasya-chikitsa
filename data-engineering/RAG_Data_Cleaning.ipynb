{
 "cells": [
  {
   "cell_type": "code",
   "execution_count": 38,
   "id": "4136a561",
   "metadata": {},
   "outputs": [],
   "source": [
    "import pandas as pd\n",
    "import pandas as pd\n",
    "from langchain_openai import OpenAIEmbeddings\n",
    "from langchain_chroma import Chroma\n",
    "from langchain_groq import ChatGroq\n",
    "from langchain_community.chat_models import ChatOpenAI\n",
    "from langchain.docstore.document import Document\n",
    "from langchain_core.prompts import ChatPromptTemplate,PromptTemplate\n",
    "from langchain_community.vectorstores import chroma\n",
    "from langchain.text_splitter import RecursiveCharacterTextSplitter\n",
    "from langchain.llms import HuggingFacePipeline\n",
    "from langchain.embeddings import HuggingFaceEmbeddings\n",
    "from langchain_huggingface import HuggingFaceEndpoint\n",
    "from langchain import HuggingFacePipeline\n",
    "from transformers import pipeline\n",
    "# RAG Chain\n",
    "from langchain_core.output_parsers import StrOutputParser\n",
    "from langchain.chains import RetrievalQA\n",
    "from transformers import AutoModelForCausalLM,AutoTokenizer\n",
    "from transformers import AutoTokenizer, pipeline, AutoModelForCausalLM\n",
    "from langchain import HuggingFacePipeline\n",
    "import transformers\n",
    "import torch  \n",
    "import os\n",
    "from langchain_huggingface import HuggingFaceEmbeddings"
   ]
  },
  {
   "cell_type": "code",
   "execution_count": 39,
   "id": "6bb65f43",
   "metadata": {},
   "outputs": [],
   "source": [
    "crop_folders = os.listdir(r\".\\data\")"
   ]
  },
  {
   "cell_type": "code",
   "execution_count": 40,
   "id": "a430329a",
   "metadata": {},
   "outputs": [
    {
     "data": {
      "text/plain": [
       "['Apple', 'Coconut', 'Paddy', 'Potato', 'Tomato']"
      ]
     },
     "execution_count": 40,
     "metadata": {},
     "output_type": "execute_result"
    }
   ],
   "source": [
    "crop_folders"
   ]
  },
  {
   "cell_type": "code",
   "execution_count": 41,
   "id": "7e50c778",
   "metadata": {},
   "outputs": [
    {
     "name": "stderr",
     "output_type": "stream",
     "text": [
      "C:\\Users\\HP\\AppData\\Local\\Temp\\ipykernel_27724\\2359651815.py:20: DtypeWarning: Columns (8) have mixed types. Specify dtype option on import or set low_memory=False.\n",
      "  df = pd.read_csv(file_path)\n",
      "C:\\Users\\HP\\AppData\\Local\\Temp\\ipykernel_27724\\2359651815.py:20: DtypeWarning: Columns (8) have mixed types. Specify dtype option on import or set low_memory=False.\n",
      "  df = pd.read_csv(file_path)\n",
      "C:\\Users\\HP\\AppData\\Local\\Temp\\ipykernel_27724\\2359651815.py:27: FutureWarning: The behavior of DataFrame concatenation with empty or all-NA entries is deprecated. In a future version, this will no longer exclude empty or all-NA columns when determining the result dtypes. To retain the old behavior, exclude the relevant entries before the concat operation.\n",
      "  big_df = pd.concat(dfs, ignore_index=True)\n"
     ]
    }
   ],
   "source": [
    "import os\n",
    "import pandas as pd\n",
    "\n",
    "# Path where these folders are located\n",
    "base_path = r\".\\data\"   # <-- change this to your actual root directory\n",
    "\n",
    "# Empty list to hold all DataFrames\n",
    "dfs = []\n",
    "\n",
    "# Loop through each folder\n",
    "for folder in crop_folders:\n",
    "    folder_path = os.path.join(base_path, folder)\n",
    "    \n",
    "    # Ensure folder exists\n",
    "    if os.path.isdir(folder_path):\n",
    "        # Loop through files in the folder\n",
    "        for file in os.listdir(folder_path):\n",
    "            if file.endswith(\".csv\"):   # only process CSV files\n",
    "                file_path = os.path.join(folder_path, file)\n",
    "                df = pd.read_csv(file_path)\n",
    "                \n",
    "                df[\"disease_name\"] = os.path.splitext(file)[0].split(folder + \"_\")[1].replace(\"_\",\" \")\n",
    "                \n",
    "                dfs.append(df)\n",
    "\n",
    "# Concatenate all DataFrames into one big DataFrame\n",
    "big_df = pd.concat(dfs, ignore_index=True)\n",
    "\n",
    "# print(big_df.shape)\n",
    "# print(big_df.head())\n"
   ]
  },
  {
   "cell_type": "code",
   "execution_count": 42,
   "id": "d3a6d2d2",
   "metadata": {},
   "outputs": [
    {
     "data": {
      "text/plain": [
       "Index(['BlockName', 'Category', 'Year', 'Month', 'Day', 'Crop', 'DistrictName',\n",
       "       'QueryType', 'Season', 'Sector', 'StateName', 'QueryText', 'KccAns',\n",
       "       'latitude', 'longitude', 'disease_name'],\n",
       "      dtype='object')"
      ]
     },
     "execution_count": 42,
     "metadata": {},
     "output_type": "execute_result"
    }
   ],
   "source": [
    "big_df.columns"
   ]
  },
  {
   "cell_type": "code",
   "execution_count": 43,
   "id": "12e26aa6",
   "metadata": {},
   "outputs": [
    {
     "data": {
      "text/html": [
       "<div>\n",
       "<style scoped>\n",
       "    .dataframe tbody tr th:only-of-type {\n",
       "        vertical-align: middle;\n",
       "    }\n",
       "\n",
       "    .dataframe tbody tr th {\n",
       "        vertical-align: top;\n",
       "    }\n",
       "\n",
       "    .dataframe thead th {\n",
       "        text-align: right;\n",
       "    }\n",
       "</style>\n",
       "<table border=\"1\" class=\"dataframe\">\n",
       "  <thead>\n",
       "    <tr style=\"text-align: right;\">\n",
       "      <th></th>\n",
       "      <th>BlockName</th>\n",
       "      <th>Category</th>\n",
       "      <th>Year</th>\n",
       "      <th>Month</th>\n",
       "      <th>Day</th>\n",
       "      <th>Crop</th>\n",
       "      <th>DistrictName</th>\n",
       "      <th>QueryType</th>\n",
       "      <th>Season</th>\n",
       "      <th>Sector</th>\n",
       "      <th>StateName</th>\n",
       "      <th>QueryText</th>\n",
       "      <th>KccAns</th>\n",
       "      <th>latitude</th>\n",
       "      <th>longitude</th>\n",
       "      <th>disease_name</th>\n",
       "    </tr>\n",
       "  </thead>\n",
       "  <tbody>\n",
       "    <tr>\n",
       "      <th>0</th>\n",
       "      <td>0</td>\n",
       "      <td>0</td>\n",
       "      <td>2010</td>\n",
       "      <td>6</td>\n",
       "      <td>23</td>\n",
       "      <td>Apple</td>\n",
       "      <td>ANANTNAG</td>\n",
       "      <td>0</td>\n",
       "      <td>JAYAD</td>\n",
       "      <td>HORTICULTURE</td>\n",
       "      <td>JAMMU AND KASHMIR</td>\n",
       "      <td>CONTROL OF ALTERNARIA LEAF BLOTCH IN APPLE TREE</td>\n",
       "      <td>KEEP 60 CM SOIL AROUND TREES TRUNKS UNDISTURDED ON-SEASON</td>\n",
       "      <td>33.7461</td>\n",
       "      <td>75.1854</td>\n",
       "      <td>Alternaria leaf blotch</td>\n",
       "    </tr>\n",
       "    <tr>\n",
       "      <th>1</th>\n",
       "      <td>0</td>\n",
       "      <td>0</td>\n",
       "      <td>2010</td>\n",
       "      <td>6</td>\n",
       "      <td>18</td>\n",
       "      <td>Apple</td>\n",
       "      <td>BARAMULLA</td>\n",
       "      <td>0</td>\n",
       "      <td>JAYAD</td>\n",
       "      <td>HORTICULTURE</td>\n",
       "      <td>JAMMU AND KASHMIR</td>\n",
       "      <td>FARMER WANTS INFORMATION ABOUT THE CONTROL OF ALTERNARIA LEAF BLOTCH IN APPLE TREES</td>\n",
       "      <td>THE CONTROL OF ALTERNARIA LEAF BLOTCH IN APPLE TREES IS TO SPRAY WITH BITERTANOL 25 EC  50G100LTRS OF WATER</td>\n",
       "      <td>34.2087</td>\n",
       "      <td>74.3435</td>\n",
       "      <td>Alternaria leaf blotch</td>\n",
       "    </tr>\n",
       "  </tbody>\n",
       "</table>\n",
       "</div>"
      ],
      "text/plain": [
       "  BlockName Category  Year Month Day   Crop DistrictName QueryType Season  \\\n",
       "0      0           0  2010     6  23  Apple     ANANTNAG         0  JAYAD   \n",
       "1      0           0  2010     6  18  Apple    BARAMULLA         0  JAYAD   \n",
       "\n",
       "         Sector          StateName  \\\n",
       "0  HORTICULTURE  JAMMU AND KASHMIR   \n",
       "1  HORTICULTURE  JAMMU AND KASHMIR   \n",
       "\n",
       "                                                                             QueryText  \\\n",
       "0                                      CONTROL OF ALTERNARIA LEAF BLOTCH IN APPLE TREE   \n",
       "1  FARMER WANTS INFORMATION ABOUT THE CONTROL OF ALTERNARIA LEAF BLOTCH IN APPLE TREES   \n",
       "\n",
       "                                                                                                        KccAns  \\\n",
       "0                                                    KEEP 60 CM SOIL AROUND TREES TRUNKS UNDISTURDED ON-SEASON   \n",
       "1  THE CONTROL OF ALTERNARIA LEAF BLOTCH IN APPLE TREES IS TO SPRAY WITH BITERTANOL 25 EC  50G100LTRS OF WATER   \n",
       "\n",
       "   latitude  longitude            disease_name  \n",
       "0   33.7461    75.1854  Alternaria leaf blotch  \n",
       "1   34.2087    74.3435  Alternaria leaf blotch  "
      ]
     },
     "execution_count": 43,
     "metadata": {},
     "output_type": "execute_result"
    }
   ],
   "source": [
    "big_df.head(2)"
   ]
  },
  {
   "cell_type": "code",
   "execution_count": 44,
   "id": "92279b7d",
   "metadata": {},
   "outputs": [
    {
     "data": {
      "text/plain": [
       "598706"
      ]
     },
     "execution_count": 44,
     "metadata": {},
     "output_type": "execute_result"
    }
   ],
   "source": [
    "len(big_df)"
   ]
  },
  {
   "cell_type": "code",
   "execution_count": 45,
   "id": "7f47bfda",
   "metadata": {},
   "outputs": [
    {
     "data": {
      "text/plain": [
       "BlockName            3\n",
       "Category             0\n",
       "Year                 0\n",
       "Month                0\n",
       "Day                  0\n",
       "Crop                 0\n",
       "DistrictName         0\n",
       "QueryType        34267\n",
       "Season          378605\n",
       "Sector               0\n",
       "StateName            0\n",
       "QueryText            0\n",
       "KccAns           75713\n",
       "latitude             0\n",
       "longitude            0\n",
       "disease_name         0\n",
       "dtype: int64"
      ]
     },
     "execution_count": 45,
     "metadata": {},
     "output_type": "execute_result"
    }
   ],
   "source": [
    "big_df.isna().sum()"
   ]
  },
  {
   "cell_type": "code",
   "execution_count": 46,
   "id": "4d5271a6",
   "metadata": {},
   "outputs": [
    {
     "data": {
      "text/html": [
       "<div>\n",
       "<style scoped>\n",
       "    .dataframe tbody tr th:only-of-type {\n",
       "        vertical-align: middle;\n",
       "    }\n",
       "\n",
       "    .dataframe tbody tr th {\n",
       "        vertical-align: top;\n",
       "    }\n",
       "\n",
       "    .dataframe thead th {\n",
       "        text-align: right;\n",
       "    }\n",
       "</style>\n",
       "<table border=\"1\" class=\"dataframe\">\n",
       "  <thead>\n",
       "    <tr style=\"text-align: right;\">\n",
       "      <th></th>\n",
       "      <th>BlockName</th>\n",
       "      <th>Category</th>\n",
       "      <th>Year</th>\n",
       "      <th>Month</th>\n",
       "      <th>Day</th>\n",
       "      <th>Crop</th>\n",
       "      <th>DistrictName</th>\n",
       "      <th>QueryType</th>\n",
       "      <th>Season</th>\n",
       "      <th>Sector</th>\n",
       "      <th>StateName</th>\n",
       "      <th>QueryText</th>\n",
       "      <th>KccAns</th>\n",
       "      <th>latitude</th>\n",
       "      <th>longitude</th>\n",
       "      <th>disease_name</th>\n",
       "    </tr>\n",
       "  </thead>\n",
       "  <tbody>\n",
       "    <tr>\n",
       "      <th>2</th>\n",
       "      <td>QAZIGUND</td>\n",
       "      <td>Fruits</td>\n",
       "      <td>2019</td>\n",
       "      <td>7</td>\n",
       "      <td>31</td>\n",
       "      <td>Apple</td>\n",
       "      <td>ANANTNAG</td>\n",
       "      <td>Plant Protection</td>\n",
       "      <td>NaN</td>\n",
       "      <td>HORTICULTURE</td>\n",
       "      <td>JAMMU AND KASHMIR</td>\n",
       "      <td>REGARDING ALTERNARIA LEAF BLOTCH  IN APPLE</td>\n",
       "      <td>NaN</td>\n",
       "      <td>33.7461</td>\n",
       "      <td>75.1854</td>\n",
       "      <td>Alternaria leaf blotch</td>\n",
       "    </tr>\n",
       "    <tr>\n",
       "      <th>3</th>\n",
       "      <td>DACHNIPORA</td>\n",
       "      <td>Fruits</td>\n",
       "      <td>2019</td>\n",
       "      <td>8</td>\n",
       "      <td>2</td>\n",
       "      <td>Apple</td>\n",
       "      <td>ANANTNAG</td>\n",
       "      <td>Plant Protection</td>\n",
       "      <td>NaN</td>\n",
       "      <td>HORTICULTURE</td>\n",
       "      <td>JAMMU AND KASHMIR</td>\n",
       "      <td>REGARDING  ALTERNARIA LEAF BLOTCH IN APPLE</td>\n",
       "      <td>NaN</td>\n",
       "      <td>33.7461</td>\n",
       "      <td>75.1854</td>\n",
       "      <td>Alternaria leaf blotch</td>\n",
       "    </tr>\n",
       "  </tbody>\n",
       "</table>\n",
       "</div>"
      ],
      "text/plain": [
       "    BlockName Category  Year Month Day   Crop DistrictName         QueryType  \\\n",
       "2    QAZIGUND   Fruits  2019     7  31  Apple     ANANTNAG  Plant Protection   \n",
       "3  DACHNIPORA   Fruits  2019     8   2  Apple     ANANTNAG  Plant Protection   \n",
       "\n",
       "  Season        Sector          StateName  \\\n",
       "2    NaN  HORTICULTURE  JAMMU AND KASHMIR   \n",
       "3    NaN  HORTICULTURE  JAMMU AND KASHMIR   \n",
       "\n",
       "                                    QueryText KccAns  latitude  longitude  \\\n",
       "2  REGARDING ALTERNARIA LEAF BLOTCH  IN APPLE    NaN   33.7461    75.1854   \n",
       "3  REGARDING  ALTERNARIA LEAF BLOTCH IN APPLE    NaN   33.7461    75.1854   \n",
       "\n",
       "             disease_name  \n",
       "2  Alternaria leaf blotch  \n",
       "3  Alternaria leaf blotch  "
      ]
     },
     "execution_count": 46,
     "metadata": {},
     "output_type": "execute_result"
    }
   ],
   "source": [
    "big_df[big_df[\"KccAns\"].isna()].head(2)"
   ]
  },
  {
   "cell_type": "code",
   "execution_count": 47,
   "id": "8363a5de",
   "metadata": {},
   "outputs": [],
   "source": [
    "big_df = big_df.dropna(subset=\"KccAns\")"
   ]
  },
  {
   "cell_type": "code",
   "execution_count": 48,
   "id": "1228d236",
   "metadata": {},
   "outputs": [],
   "source": [
    "big_df = big_df.rename(columns={\"Season English\": \"Season_English\"})"
   ]
  },
  {
   "cell_type": "code",
   "execution_count": 49,
   "id": "42ce85d3",
   "metadata": {},
   "outputs": [
    {
     "data": {
      "text/html": [
       "<div>\n",
       "<style scoped>\n",
       "    .dataframe tbody tr th:only-of-type {\n",
       "        vertical-align: middle;\n",
       "    }\n",
       "\n",
       "    .dataframe tbody tr th {\n",
       "        vertical-align: top;\n",
       "    }\n",
       "\n",
       "    .dataframe thead th {\n",
       "        text-align: right;\n",
       "    }\n",
       "</style>\n",
       "<table border=\"1\" class=\"dataframe\">\n",
       "  <thead>\n",
       "    <tr style=\"text-align: right;\">\n",
       "      <th></th>\n",
       "      <th>BlockName</th>\n",
       "      <th>Category</th>\n",
       "      <th>Year</th>\n",
       "      <th>Month</th>\n",
       "      <th>Day</th>\n",
       "      <th>Crop</th>\n",
       "      <th>DistrictName</th>\n",
       "      <th>QueryType</th>\n",
       "      <th>Season</th>\n",
       "      <th>Sector</th>\n",
       "      <th>StateName</th>\n",
       "      <th>QueryText</th>\n",
       "      <th>KccAns</th>\n",
       "      <th>latitude</th>\n",
       "      <th>longitude</th>\n",
       "      <th>disease_name</th>\n",
       "    </tr>\n",
       "  </thead>\n",
       "  <tbody>\n",
       "    <tr>\n",
       "      <th>0</th>\n",
       "      <td>0</td>\n",
       "      <td>0</td>\n",
       "      <td>2010</td>\n",
       "      <td>6</td>\n",
       "      <td>23</td>\n",
       "      <td>Apple</td>\n",
       "      <td>ANANTNAG</td>\n",
       "      <td>0</td>\n",
       "      <td>JAYAD</td>\n",
       "      <td>HORTICULTURE</td>\n",
       "      <td>JAMMU AND KASHMIR</td>\n",
       "      <td>CONTROL OF ALTERNARIA LEAF BLOTCH IN APPLE TREE</td>\n",
       "      <td>KEEP 60 CM SOIL AROUND TREES TRUNKS UNDISTURDED ON-SEASON</td>\n",
       "      <td>33.7461</td>\n",
       "      <td>75.1854</td>\n",
       "      <td>Alternaria leaf blotch</td>\n",
       "    </tr>\n",
       "    <tr>\n",
       "      <th>1</th>\n",
       "      <td>0</td>\n",
       "      <td>0</td>\n",
       "      <td>2010</td>\n",
       "      <td>6</td>\n",
       "      <td>18</td>\n",
       "      <td>Apple</td>\n",
       "      <td>BARAMULLA</td>\n",
       "      <td>0</td>\n",
       "      <td>JAYAD</td>\n",
       "      <td>HORTICULTURE</td>\n",
       "      <td>JAMMU AND KASHMIR</td>\n",
       "      <td>FARMER WANTS INFORMATION ABOUT THE CONTROL OF ALTERNARIA LEAF BLOTCH IN APPLE TREES</td>\n",
       "      <td>THE CONTROL OF ALTERNARIA LEAF BLOTCH IN APPLE TREES IS TO SPRAY WITH BITERTANOL 25 EC  50G100LTRS OF WATER</td>\n",
       "      <td>34.2087</td>\n",
       "      <td>74.3435</td>\n",
       "      <td>Alternaria leaf blotch</td>\n",
       "    </tr>\n",
       "  </tbody>\n",
       "</table>\n",
       "</div>"
      ],
      "text/plain": [
       "  BlockName Category  Year Month Day   Crop DistrictName QueryType Season  \\\n",
       "0      0           0  2010     6  23  Apple     ANANTNAG         0  JAYAD   \n",
       "1      0           0  2010     6  18  Apple    BARAMULLA         0  JAYAD   \n",
       "\n",
       "         Sector          StateName  \\\n",
       "0  HORTICULTURE  JAMMU AND KASHMIR   \n",
       "1  HORTICULTURE  JAMMU AND KASHMIR   \n",
       "\n",
       "                                                                             QueryText  \\\n",
       "0                                      CONTROL OF ALTERNARIA LEAF BLOTCH IN APPLE TREE   \n",
       "1  FARMER WANTS INFORMATION ABOUT THE CONTROL OF ALTERNARIA LEAF BLOTCH IN APPLE TREES   \n",
       "\n",
       "                                                                                                        KccAns  \\\n",
       "0                                                    KEEP 60 CM SOIL AROUND TREES TRUNKS UNDISTURDED ON-SEASON   \n",
       "1  THE CONTROL OF ALTERNARIA LEAF BLOTCH IN APPLE TREES IS TO SPRAY WITH BITERTANOL 25 EC  50G100LTRS OF WATER   \n",
       "\n",
       "   latitude  longitude            disease_name  \n",
       "0   33.7461    75.1854  Alternaria leaf blotch  \n",
       "1   34.2087    74.3435  Alternaria leaf blotch  "
      ]
     },
     "execution_count": 49,
     "metadata": {},
     "output_type": "execute_result"
    }
   ],
   "source": [
    "big_df.head(2)"
   ]
  },
  {
   "cell_type": "code",
   "execution_count": 50,
   "id": "ff69a060",
   "metadata": {},
   "outputs": [],
   "source": [
    "import calendar\n",
    "big_df[\"Month\"] = big_df[\"Month\"].apply(lambda x: calendar.month_name[x])"
   ]
  },
  {
   "cell_type": "code",
   "execution_count": 51,
   "id": "415487e7",
   "metadata": {},
   "outputs": [
    {
     "data": {
      "text/html": [
       "<div>\n",
       "<style scoped>\n",
       "    .dataframe tbody tr th:only-of-type {\n",
       "        vertical-align: middle;\n",
       "    }\n",
       "\n",
       "    .dataframe tbody tr th {\n",
       "        vertical-align: top;\n",
       "    }\n",
       "\n",
       "    .dataframe thead th {\n",
       "        text-align: right;\n",
       "    }\n",
       "</style>\n",
       "<table border=\"1\" class=\"dataframe\">\n",
       "  <thead>\n",
       "    <tr style=\"text-align: right;\">\n",
       "      <th></th>\n",
       "      <th>BlockName</th>\n",
       "      <th>Category</th>\n",
       "      <th>Year</th>\n",
       "      <th>Month</th>\n",
       "      <th>Day</th>\n",
       "      <th>Crop</th>\n",
       "      <th>DistrictName</th>\n",
       "      <th>QueryType</th>\n",
       "      <th>Season</th>\n",
       "      <th>Sector</th>\n",
       "      <th>StateName</th>\n",
       "      <th>QueryText</th>\n",
       "      <th>KccAns</th>\n",
       "      <th>latitude</th>\n",
       "      <th>longitude</th>\n",
       "      <th>disease_name</th>\n",
       "    </tr>\n",
       "  </thead>\n",
       "  <tbody>\n",
       "    <tr>\n",
       "      <th>0</th>\n",
       "      <td>0</td>\n",
       "      <td>0</td>\n",
       "      <td>2010</td>\n",
       "      <td>June</td>\n",
       "      <td>23</td>\n",
       "      <td>Apple</td>\n",
       "      <td>ANANTNAG</td>\n",
       "      <td>0</td>\n",
       "      <td>JAYAD</td>\n",
       "      <td>HORTICULTURE</td>\n",
       "      <td>JAMMU AND KASHMIR</td>\n",
       "      <td>CONTROL OF ALTERNARIA LEAF BLOTCH IN APPLE TREE</td>\n",
       "      <td>KEEP 60 CM SOIL AROUND TREES TRUNKS UNDISTURDED ON-SEASON</td>\n",
       "      <td>33.7461</td>\n",
       "      <td>75.1854</td>\n",
       "      <td>Alternaria leaf blotch</td>\n",
       "    </tr>\n",
       "    <tr>\n",
       "      <th>1</th>\n",
       "      <td>0</td>\n",
       "      <td>0</td>\n",
       "      <td>2010</td>\n",
       "      <td>June</td>\n",
       "      <td>18</td>\n",
       "      <td>Apple</td>\n",
       "      <td>BARAMULLA</td>\n",
       "      <td>0</td>\n",
       "      <td>JAYAD</td>\n",
       "      <td>HORTICULTURE</td>\n",
       "      <td>JAMMU AND KASHMIR</td>\n",
       "      <td>FARMER WANTS INFORMATION ABOUT THE CONTROL OF ALTERNARIA LEAF BLOTCH IN APPLE TREES</td>\n",
       "      <td>THE CONTROL OF ALTERNARIA LEAF BLOTCH IN APPLE TREES IS TO SPRAY WITH BITERTANOL 25 EC  50G100LTRS OF WATER</td>\n",
       "      <td>34.2087</td>\n",
       "      <td>74.3435</td>\n",
       "      <td>Alternaria leaf blotch</td>\n",
       "    </tr>\n",
       "  </tbody>\n",
       "</table>\n",
       "</div>"
      ],
      "text/plain": [
       "  BlockName Category  Year Month Day   Crop DistrictName QueryType Season  \\\n",
       "0      0           0  2010  June  23  Apple     ANANTNAG         0  JAYAD   \n",
       "1      0           0  2010  June  18  Apple    BARAMULLA         0  JAYAD   \n",
       "\n",
       "         Sector          StateName  \\\n",
       "0  HORTICULTURE  JAMMU AND KASHMIR   \n",
       "1  HORTICULTURE  JAMMU AND KASHMIR   \n",
       "\n",
       "                                                                             QueryText  \\\n",
       "0                                      CONTROL OF ALTERNARIA LEAF BLOTCH IN APPLE TREE   \n",
       "1  FARMER WANTS INFORMATION ABOUT THE CONTROL OF ALTERNARIA LEAF BLOTCH IN APPLE TREES   \n",
       "\n",
       "                                                                                                        KccAns  \\\n",
       "0                                                    KEEP 60 CM SOIL AROUND TREES TRUNKS UNDISTURDED ON-SEASON   \n",
       "1  THE CONTROL OF ALTERNARIA LEAF BLOTCH IN APPLE TREES IS TO SPRAY WITH BITERTANOL 25 EC  50G100LTRS OF WATER   \n",
       "\n",
       "   latitude  longitude            disease_name  \n",
       "0   33.7461    75.1854  Alternaria leaf blotch  \n",
       "1   34.2087    74.3435  Alternaria leaf blotch  "
      ]
     },
     "execution_count": 51,
     "metadata": {},
     "output_type": "execute_result"
    }
   ],
   "source": [
    "big_df.head(2)"
   ]
  },
  {
   "cell_type": "code",
   "execution_count": 52,
   "id": "b2b7274b",
   "metadata": {},
   "outputs": [
    {
     "data": {
      "text/plain": [
       "522993"
      ]
     },
     "execution_count": 52,
     "metadata": {},
     "output_type": "execute_result"
    }
   ],
   "source": [
    "len(big_df)"
   ]
  },
  {
   "cell_type": "code",
   "execution_count": 53,
   "id": "b2e0b4c7",
   "metadata": {},
   "outputs": [
    {
     "data": {
      "text/plain": [
       "Index(['BlockName', 'Category', 'Year', 'Month', 'Day', 'Crop', 'DistrictName',\n",
       "       'QueryType', 'Season', 'Sector', 'StateName', 'QueryText', 'KccAns',\n",
       "       'latitude', 'longitude', 'disease_name'],\n",
       "      dtype='object')"
      ]
     },
     "execution_count": 53,
     "metadata": {},
     "output_type": "execute_result"
    }
   ],
   "source": [
    "big_df.columns"
   ]
  },
  {
   "cell_type": "code",
   "execution_count": 54,
   "id": "daf0af34",
   "metadata": {},
   "outputs": [],
   "source": [
    "big_df = big_df[[\"DistrictName\",\"StateName\",\"Season\",\"Month\",\"disease_name\",\"QueryText\",\"KccAns\",\"Crop\"]]"
   ]
  },
  {
   "cell_type": "code",
   "execution_count": 55,
   "id": "b47c07c0",
   "metadata": {},
   "outputs": [
    {
     "data": {
      "text/html": [
       "<div>\n",
       "<style scoped>\n",
       "    .dataframe tbody tr th:only-of-type {\n",
       "        vertical-align: middle;\n",
       "    }\n",
       "\n",
       "    .dataframe tbody tr th {\n",
       "        vertical-align: top;\n",
       "    }\n",
       "\n",
       "    .dataframe thead th {\n",
       "        text-align: right;\n",
       "    }\n",
       "</style>\n",
       "<table border=\"1\" class=\"dataframe\">\n",
       "  <thead>\n",
       "    <tr style=\"text-align: right;\">\n",
       "      <th></th>\n",
       "      <th>DistrictName</th>\n",
       "      <th>StateName</th>\n",
       "      <th>Season</th>\n",
       "      <th>Month</th>\n",
       "      <th>disease_name</th>\n",
       "      <th>QueryText</th>\n",
       "      <th>KccAns</th>\n",
       "      <th>Crop</th>\n",
       "    </tr>\n",
       "  </thead>\n",
       "  <tbody>\n",
       "    <tr>\n",
       "      <th>0</th>\n",
       "      <td>ANANTNAG</td>\n",
       "      <td>JAMMU AND KASHMIR</td>\n",
       "      <td>JAYAD</td>\n",
       "      <td>June</td>\n",
       "      <td>Alternaria leaf blotch</td>\n",
       "      <td>CONTROL OF ALTERNARIA LEAF BLOTCH IN APPLE TREE</td>\n",
       "      <td>KEEP 60 CM SOIL AROUND TREES TRUNKS UNDISTURDED ON-SEASON</td>\n",
       "      <td>Apple</td>\n",
       "    </tr>\n",
       "    <tr>\n",
       "      <th>1</th>\n",
       "      <td>BARAMULLA</td>\n",
       "      <td>JAMMU AND KASHMIR</td>\n",
       "      <td>JAYAD</td>\n",
       "      <td>June</td>\n",
       "      <td>Alternaria leaf blotch</td>\n",
       "      <td>FARMER WANTS INFORMATION ABOUT THE CONTROL OF ALTERNARIA LEAF BLOTCH IN APPLE TREES</td>\n",
       "      <td>THE CONTROL OF ALTERNARIA LEAF BLOTCH IN APPLE TREES IS TO SPRAY WITH BITERTANOL 25 EC  50G100LTRS OF WATER</td>\n",
       "      <td>Apple</td>\n",
       "    </tr>\n",
       "    <tr>\n",
       "      <th>23</th>\n",
       "      <td>ANANTNAG</td>\n",
       "      <td>JAMMU AND KASHMIR</td>\n",
       "      <td>NaN</td>\n",
       "      <td>July</td>\n",
       "      <td>Alternaria leaf blotch</td>\n",
       "      <td>Farmer asked the query regarding problem alternaria leaf blotch in apple</td>\n",
       "      <td>It is advised to the farmer spray one of the following fungicides at fruit development stage 3rd Mancozeb 75 WP 300 g or Ziram 27 SC 600 ml or Zineb 75 WP  300 g or Ziram  80 WP  200 g  or Chlorothalonil 75 WP 150 g In case rainy weather hampers VII FD II spray Difenaconazole 25 EC  30 ml or Trifloxystrobin 25  Tebuconazole 50  75 WG  40g in 100 litres of water</td>\n",
       "      <td>Apple</td>\n",
       "    </tr>\n",
       "  </tbody>\n",
       "</table>\n",
       "</div>"
      ],
      "text/plain": [
       "   DistrictName          StateName Season Month            disease_name  \\\n",
       "0      ANANTNAG  JAMMU AND KASHMIR  JAYAD  June  Alternaria leaf blotch   \n",
       "1     BARAMULLA  JAMMU AND KASHMIR  JAYAD  June  Alternaria leaf blotch   \n",
       "23     ANANTNAG  JAMMU AND KASHMIR    NaN  July  Alternaria leaf blotch   \n",
       "\n",
       "                                                                              QueryText  \\\n",
       "0                                       CONTROL OF ALTERNARIA LEAF BLOTCH IN APPLE TREE   \n",
       "1   FARMER WANTS INFORMATION ABOUT THE CONTROL OF ALTERNARIA LEAF BLOTCH IN APPLE TREES   \n",
       "23             Farmer asked the query regarding problem alternaria leaf blotch in apple   \n",
       "\n",
       "                                                                                                                                                                                                                                                                                                                                                                          KccAns  \\\n",
       "0                                                                                                                                                                                                                                                                                                                      KEEP 60 CM SOIL AROUND TREES TRUNKS UNDISTURDED ON-SEASON   \n",
       "1                                                                                                                                                                                                                                                                    THE CONTROL OF ALTERNARIA LEAF BLOTCH IN APPLE TREES IS TO SPRAY WITH BITERTANOL 25 EC  50G100LTRS OF WATER   \n",
       "23  It is advised to the farmer spray one of the following fungicides at fruit development stage 3rd Mancozeb 75 WP 300 g or Ziram 27 SC 600 ml or Zineb 75 WP  300 g or Ziram  80 WP  200 g  or Chlorothalonil 75 WP 150 g In case rainy weather hampers VII FD II spray Difenaconazole 25 EC  30 ml or Trifloxystrobin 25  Tebuconazole 50  75 WG  40g in 100 litres of water    \n",
       "\n",
       "     Crop  \n",
       "0   Apple  \n",
       "1   Apple  \n",
       "23  Apple  "
      ]
     },
     "execution_count": 55,
     "metadata": {},
     "output_type": "execute_result"
    }
   ],
   "source": [
    "big_df.head(3)"
   ]
  },
  {
   "cell_type": "code",
   "execution_count": 56,
   "id": "6b11507b",
   "metadata": {},
   "outputs": [
    {
     "name": "stdout",
     "output_type": "stream",
     "text": [
      "                                                                                                                                                                                                                                                                                                                                                                                              KccAns  \\\n",
      "0                                                                                                                                                                                                                                                                                                                                          KEEP 60 CM SOIL AROUND TREES TRUNKS UNDISTURDED ON-SEASON   \n",
      "1                                                                                                                                                                                                                                                                                        THE CONTROL OF ALTERNARIA LEAF BLOTCH IN APPLE TREES IS TO SPRAY WITH BITERTANOL 25 EC  50G100LTRS OF WATER   \n",
      "23                      It is advised to the farmer spray one of the following fungicides at fruit development stage 3rd Mancozeb 75 WP 300 g or Ziram 27 SC 600 ml or Zineb 75 WP  300 g or Ziram  80 WP  200 g  or Chlorothalonil 75 WP 150 g In case rainy weather hampers VII FD II spray Difenaconazole 25 EC  30 ml or Trifloxystrobin 25  Tebuconazole 50  75 WG  40g in 100 litres of water    \n",
      "24                                                      -- It is advised to the farmer spray In case rainy weather hampers VII FD II spray Difenaconazole 25 EC  30 ml or Trifloxystrobin 25  Tebuconazole 50  75 WG  40g   or Metiram 55  Pyraclostrobin 5 60 WG  100 g   or Zineb 68  Hexaconazole 4  72 WP  100 g     or Hexaconazole 5 EC  50 ml or Myclobutanil 10 WP 50 g in 100 ltrs of water   \n",
      "25  Fruit develop ment-IV     X 12-18 days after VIII spray Need based a For ALB Scab incidence Hexaconazole 5 EC 50ml or  Zineb68 Hexaconazole4  72 WP  100 g    or  Myclobutanil 10 WP 70g      or  Metiram 55  Pyraclostrobin 5  60 WG  100 g      Need based : bFor Marssonina  Sooty blotch  Flyspeck Mancozeb 75WP 300 g  or Ziram 27 SC 600 ml or Propineb 70 WP 300 g or Ziram  80WP  200 g    \n",
      "\n",
      "    word_count  \n",
      "0            9  \n",
      "1           19  \n",
      "23          73  \n",
      "24          65  \n",
      "25          70  \n"
     ]
    }
   ],
   "source": [
    "big_df[\"word_count\"] = big_df[\"KccAns\"].astype(str).apply(lambda x: len(x.split()))\n",
    "\n",
    "print(big_df[[\"KccAns\", \"word_count\"]].head())"
   ]
  },
  {
   "cell_type": "code",
   "execution_count": 57,
   "id": "9566d4b7",
   "metadata": {},
   "outputs": [],
   "source": [
    "big_df = big_df[big_df[\"word_count\"]>1]"
   ]
  },
  {
   "cell_type": "code",
   "execution_count": 58,
   "id": "c6b5f728",
   "metadata": {},
   "outputs": [
    {
     "data": {
      "text/plain": [
       "516124"
      ]
     },
     "execution_count": 58,
     "metadata": {},
     "output_type": "execute_result"
    }
   ],
   "source": [
    "len(big_df)"
   ]
  },
  {
   "cell_type": "code",
   "execution_count": 59,
   "id": "d4fe9ebd",
   "metadata": {},
   "outputs": [],
   "source": [
    "# Display all rows\n",
    "pd.set_option('display.max_rows', None)\n",
    "\n",
    "# Display full column width (not truncated)\n",
    "pd.set_option('display.max_colwidth', None)"
   ]
  },
  {
   "cell_type": "code",
   "execution_count": 60,
   "id": "415fb1c8",
   "metadata": {},
   "outputs": [],
   "source": [
    "big_df = big_df.drop_duplicates()"
   ]
  },
  {
   "cell_type": "code",
   "execution_count": 61,
   "id": "89f5bd0b",
   "metadata": {},
   "outputs": [],
   "source": [
    "big_df= big_df.drop_duplicates([\"StateName\",\"QueryText\",\"KccAns\"])"
   ]
  },
  {
   "cell_type": "code",
   "execution_count": 62,
   "id": "a373a35a",
   "metadata": {},
   "outputs": [],
   "source": [
    "def row_only_digits(row):\n",
    "    return all(word.isdigit() for word in row.split())\n",
    "\n",
    "# Apply to the column\n",
    "big_df = big_df[~big_df[\"KccAns\"].apply(row_only_digits)]"
   ]
  },
  {
   "cell_type": "code",
   "execution_count": 63,
   "id": "c16f1978",
   "metadata": {},
   "outputs": [
    {
     "data": {
      "text/plain": [
       "194716"
      ]
     },
     "execution_count": 63,
     "metadata": {},
     "output_type": "execute_result"
    }
   ],
   "source": [
    "len(big_df)"
   ]
  },
  {
   "cell_type": "code",
   "execution_count": 64,
   "id": "a6bddd46",
   "metadata": {},
   "outputs": [],
   "source": [
    "big_df[\"query_word_count\"] = big_df[\"QueryText\"].astype(str).apply(lambda x: len(x.split()))\n",
    "\n",
    "# print(big_df[[\"KccAns\", \"word_count\"]].head())"
   ]
  },
  {
   "cell_type": "code",
   "execution_count": 65,
   "id": "6893c0d4",
   "metadata": {},
   "outputs": [
    {
     "data": {
      "text/plain": [
       "904"
      ]
     },
     "execution_count": 65,
     "metadata": {},
     "output_type": "execute_result"
    }
   ],
   "source": [
    "len(big_df[big_df[\"query_word_count\"]<2])"
   ]
  },
  {
   "cell_type": "code",
   "execution_count": null,
   "id": "0f3693cd",
   "metadata": {},
   "outputs": [],
   "source": [
    "big_df = big_df[big_df[\"query_word_count\"]>2]"
   ]
  },
  {
   "cell_type": "code",
   "execution_count": 68,
   "id": "0997c968",
   "metadata": {},
   "outputs": [
    {
     "data": {
      "text/plain": [
       "187538"
      ]
     },
     "execution_count": 68,
     "metadata": {},
     "output_type": "execute_result"
    }
   ],
   "source": [
    "len(big_df)"
   ]
  },
  {
   "cell_type": "code",
   "execution_count": 73,
   "id": "76bea7ff",
   "metadata": {},
   "outputs": [
    {
     "data": {
      "text/plain": [
       "Index(['DistrictName', 'StateName', 'Season', 'Month', 'disease_name',\n",
       "       'QueryText', 'KccAns', 'Crop', 'word_count', 'query_word_count'],\n",
       "      dtype='object')"
      ]
     },
     "execution_count": 73,
     "metadata": {},
     "output_type": "execute_result"
    }
   ],
   "source": [
    "big_df.columns"
   ]
  },
  {
   "cell_type": "code",
   "execution_count": null,
   "id": "092962b4",
   "metadata": {},
   "outputs": [
    {
     "ename": "KeyboardInterrupt",
     "evalue": "",
     "output_type": "error",
     "traceback": [
      "\u001b[1;31m---------------------------------------------------------------------------\u001b[0m",
      "\u001b[1;31mKeyboardInterrupt\u001b[0m                         Traceback (most recent call last)",
      "Cell \u001b[1;32mIn[74], line 38\u001b[0m\n\u001b[0;32m     36\u001b[0m tfidf \u001b[38;5;241m=\u001b[39m TfidfVectorizer()\n\u001b[0;32m     37\u001b[0m texts \u001b[38;5;241m=\u001b[39m [combined_text] \u001b[38;5;241m+\u001b[39m compare_df[\u001b[38;5;124m\"\u001b[39m\u001b[38;5;124mcombined\u001b[39m\u001b[38;5;124m\"\u001b[39m]\u001b[38;5;241m.\u001b[39mtolist()\n\u001b[1;32m---> 38\u001b[0m tfidf_matrix \u001b[38;5;241m=\u001b[39m \u001b[43mtfidf\u001b[49m\u001b[38;5;241;43m.\u001b[39;49m\u001b[43mfit_transform\u001b[49m\u001b[43m(\u001b[49m\u001b[43mtexts\u001b[49m\u001b[43m)\u001b[49m\n\u001b[0;32m     39\u001b[0m cos_sim \u001b[38;5;241m=\u001b[39m cosine_similarity(tfidf_matrix[\u001b[38;5;241m0\u001b[39m:\u001b[38;5;241m1\u001b[39m], tfidf_matrix[\u001b[38;5;241m1\u001b[39m:])\u001b[38;5;241m.\u001b[39mflatten()\n\u001b[0;32m     41\u001b[0m \u001b[38;5;66;03m# Keep current row\u001b[39;00m\n",
      "File \u001b[1;32mc:\\Users\\HP\\AppData\\Local\\Programs\\Python\\Python310\\lib\\site-packages\\sklearn\\feature_extraction\\text.py:2104\u001b[0m, in \u001b[0;36mTfidfVectorizer.fit_transform\u001b[1;34m(self, raw_documents, y)\u001b[0m\n\u001b[0;32m   2097\u001b[0m \u001b[38;5;28mself\u001b[39m\u001b[38;5;241m.\u001b[39m_check_params()\n\u001b[0;32m   2098\u001b[0m \u001b[38;5;28mself\u001b[39m\u001b[38;5;241m.\u001b[39m_tfidf \u001b[38;5;241m=\u001b[39m TfidfTransformer(\n\u001b[0;32m   2099\u001b[0m     norm\u001b[38;5;241m=\u001b[39m\u001b[38;5;28mself\u001b[39m\u001b[38;5;241m.\u001b[39mnorm,\n\u001b[0;32m   2100\u001b[0m     use_idf\u001b[38;5;241m=\u001b[39m\u001b[38;5;28mself\u001b[39m\u001b[38;5;241m.\u001b[39muse_idf,\n\u001b[0;32m   2101\u001b[0m     smooth_idf\u001b[38;5;241m=\u001b[39m\u001b[38;5;28mself\u001b[39m\u001b[38;5;241m.\u001b[39msmooth_idf,\n\u001b[0;32m   2102\u001b[0m     sublinear_tf\u001b[38;5;241m=\u001b[39m\u001b[38;5;28mself\u001b[39m\u001b[38;5;241m.\u001b[39msublinear_tf,\n\u001b[0;32m   2103\u001b[0m )\n\u001b[1;32m-> 2104\u001b[0m X \u001b[38;5;241m=\u001b[39m \u001b[38;5;28;43msuper\u001b[39;49m\u001b[43m(\u001b[49m\u001b[43m)\u001b[49m\u001b[38;5;241;43m.\u001b[39;49m\u001b[43mfit_transform\u001b[49m\u001b[43m(\u001b[49m\u001b[43mraw_documents\u001b[49m\u001b[43m)\u001b[49m\n\u001b[0;32m   2105\u001b[0m \u001b[38;5;28mself\u001b[39m\u001b[38;5;241m.\u001b[39m_tfidf\u001b[38;5;241m.\u001b[39mfit(X)\n\u001b[0;32m   2106\u001b[0m \u001b[38;5;66;03m# X is already a transformed view of raw_documents so\u001b[39;00m\n\u001b[0;32m   2107\u001b[0m \u001b[38;5;66;03m# we set copy to False\u001b[39;00m\n",
      "File \u001b[1;32mc:\\Users\\HP\\AppData\\Local\\Programs\\Python\\Python310\\lib\\site-packages\\sklearn\\base.py:1389\u001b[0m, in \u001b[0;36m_fit_context.<locals>.decorator.<locals>.wrapper\u001b[1;34m(estimator, *args, **kwargs)\u001b[0m\n\u001b[0;32m   1382\u001b[0m     estimator\u001b[38;5;241m.\u001b[39m_validate_params()\n\u001b[0;32m   1384\u001b[0m \u001b[38;5;28;01mwith\u001b[39;00m config_context(\n\u001b[0;32m   1385\u001b[0m     skip_parameter_validation\u001b[38;5;241m=\u001b[39m(\n\u001b[0;32m   1386\u001b[0m         prefer_skip_nested_validation \u001b[38;5;129;01mor\u001b[39;00m global_skip_validation\n\u001b[0;32m   1387\u001b[0m     )\n\u001b[0;32m   1388\u001b[0m ):\n\u001b[1;32m-> 1389\u001b[0m     \u001b[38;5;28;01mreturn\u001b[39;00m fit_method(estimator, \u001b[38;5;241m*\u001b[39margs, \u001b[38;5;241m*\u001b[39m\u001b[38;5;241m*\u001b[39mkwargs)\n",
      "File \u001b[1;32mc:\\Users\\HP\\AppData\\Local\\Programs\\Python\\Python310\\lib\\site-packages\\sklearn\\feature_extraction\\text.py:1376\u001b[0m, in \u001b[0;36mCountVectorizer.fit_transform\u001b[1;34m(self, raw_documents, y)\u001b[0m\n\u001b[0;32m   1368\u001b[0m             warnings\u001b[38;5;241m.\u001b[39mwarn(\n\u001b[0;32m   1369\u001b[0m                 \u001b[38;5;124m\"\u001b[39m\u001b[38;5;124mUpper case characters found in\u001b[39m\u001b[38;5;124m\"\u001b[39m\n\u001b[0;32m   1370\u001b[0m                 \u001b[38;5;124m\"\u001b[39m\u001b[38;5;124m vocabulary while \u001b[39m\u001b[38;5;124m'\u001b[39m\u001b[38;5;124mlowercase\u001b[39m\u001b[38;5;124m'\u001b[39m\u001b[38;5;124m\"\u001b[39m\n\u001b[0;32m   1371\u001b[0m                 \u001b[38;5;124m\"\u001b[39m\u001b[38;5;124m is True. These entries will not\u001b[39m\u001b[38;5;124m\"\u001b[39m\n\u001b[0;32m   1372\u001b[0m                 \u001b[38;5;124m\"\u001b[39m\u001b[38;5;124m be matched with any documents\u001b[39m\u001b[38;5;124m\"\u001b[39m\n\u001b[0;32m   1373\u001b[0m             )\n\u001b[0;32m   1374\u001b[0m             \u001b[38;5;28;01mbreak\u001b[39;00m\n\u001b[1;32m-> 1376\u001b[0m vocabulary, X \u001b[38;5;241m=\u001b[39m \u001b[38;5;28;43mself\u001b[39;49m\u001b[38;5;241;43m.\u001b[39;49m\u001b[43m_count_vocab\u001b[49m\u001b[43m(\u001b[49m\u001b[43mraw_documents\u001b[49m\u001b[43m,\u001b[49m\u001b[43m \u001b[49m\u001b[38;5;28;43mself\u001b[39;49m\u001b[38;5;241;43m.\u001b[39;49m\u001b[43mfixed_vocabulary_\u001b[49m\u001b[43m)\u001b[49m\n\u001b[0;32m   1378\u001b[0m \u001b[38;5;28;01mif\u001b[39;00m \u001b[38;5;28mself\u001b[39m\u001b[38;5;241m.\u001b[39mbinary:\n\u001b[0;32m   1379\u001b[0m     X\u001b[38;5;241m.\u001b[39mdata\u001b[38;5;241m.\u001b[39mfill(\u001b[38;5;241m1\u001b[39m)\n",
      "File \u001b[1;32mc:\\Users\\HP\\AppData\\Local\\Programs\\Python\\Python310\\lib\\site-packages\\sklearn\\feature_extraction\\text.py:1263\u001b[0m, in \u001b[0;36mCountVectorizer._count_vocab\u001b[1;34m(self, raw_documents, fixed_vocab)\u001b[0m\n\u001b[0;32m   1261\u001b[0m \u001b[38;5;28;01mfor\u001b[39;00m doc \u001b[38;5;129;01min\u001b[39;00m raw_documents:\n\u001b[0;32m   1262\u001b[0m     feature_counter \u001b[38;5;241m=\u001b[39m {}\n\u001b[1;32m-> 1263\u001b[0m     \u001b[38;5;28;01mfor\u001b[39;00m feature \u001b[38;5;129;01min\u001b[39;00m \u001b[43manalyze\u001b[49m\u001b[43m(\u001b[49m\u001b[43mdoc\u001b[49m\u001b[43m)\u001b[49m:\n\u001b[0;32m   1264\u001b[0m         \u001b[38;5;28;01mtry\u001b[39;00m:\n\u001b[0;32m   1265\u001b[0m             feature_idx \u001b[38;5;241m=\u001b[39m vocabulary[feature]\n",
      "File \u001b[1;32mc:\\Users\\HP\\AppData\\Local\\Programs\\Python\\Python310\\lib\\site-packages\\sklearn\\feature_extraction\\text.py:99\u001b[0m, in \u001b[0;36m_analyze\u001b[1;34m(doc, analyzer, tokenizer, ngrams, preprocessor, decoder, stop_words)\u001b[0m\n\u001b[0;32m     77\u001b[0m \u001b[38;5;250m\u001b[39m\u001b[38;5;124;03m\"\"\"Chain together an optional series of text processing steps to go from\u001b[39;00m\n\u001b[0;32m     78\u001b[0m \u001b[38;5;124;03ma single document to ngrams, with or without tokenizing or preprocessing.\u001b[39;00m\n\u001b[0;32m     79\u001b[0m \n\u001b[1;32m   (...)\u001b[0m\n\u001b[0;32m     95\u001b[0m \u001b[38;5;124;03m    A sequence of tokens, possibly with pairs, triples, etc.\u001b[39;00m\n\u001b[0;32m     96\u001b[0m \u001b[38;5;124;03m\"\"\"\u001b[39;00m\n\u001b[0;32m     98\u001b[0m \u001b[38;5;28;01mif\u001b[39;00m decoder \u001b[38;5;129;01mis\u001b[39;00m \u001b[38;5;129;01mnot\u001b[39;00m \u001b[38;5;28;01mNone\u001b[39;00m:\n\u001b[1;32m---> 99\u001b[0m     doc \u001b[38;5;241m=\u001b[39m \u001b[43mdecoder\u001b[49m\u001b[43m(\u001b[49m\u001b[43mdoc\u001b[49m\u001b[43m)\u001b[49m\n\u001b[0;32m    100\u001b[0m \u001b[38;5;28;01mif\u001b[39;00m analyzer \u001b[38;5;129;01mis\u001b[39;00m \u001b[38;5;129;01mnot\u001b[39;00m \u001b[38;5;28;01mNone\u001b[39;00m:\n\u001b[0;32m    101\u001b[0m     doc \u001b[38;5;241m=\u001b[39m analyzer(doc)\n",
      "File \u001b[1;32mc:\\Users\\HP\\AppData\\Local\\Programs\\Python\\Python310\\lib\\site-packages\\sklearn\\feature_extraction\\text.py:206\u001b[0m, in \u001b[0;36m_VectorizerMixin.decode\u001b[1;34m(self, doc)\u001b[0m\n\u001b[0;32m    202\u001b[0m \u001b[38;5;250m\u001b[39m\u001b[38;5;124;03m\"\"\"Provides common code for text vectorizers (tokenization logic).\"\"\"\u001b[39;00m\n\u001b[0;32m    204\u001b[0m _white_spaces \u001b[38;5;241m=\u001b[39m re\u001b[38;5;241m.\u001b[39mcompile(\u001b[38;5;124mr\u001b[39m\u001b[38;5;124m\"\u001b[39m\u001b[38;5;124m\\\u001b[39m\u001b[38;5;124ms\u001b[39m\u001b[38;5;124m\\\u001b[39m\u001b[38;5;124ms+\u001b[39m\u001b[38;5;124m\"\u001b[39m)\n\u001b[1;32m--> 206\u001b[0m \u001b[38;5;28;01mdef\u001b[39;00m\u001b[38;5;250m \u001b[39m\u001b[38;5;21mdecode\u001b[39m(\u001b[38;5;28mself\u001b[39m, doc):\n\u001b[0;32m    207\u001b[0m \u001b[38;5;250m    \u001b[39m\u001b[38;5;124;03m\"\"\"Decode the input into a string of unicode symbols.\u001b[39;00m\n\u001b[0;32m    208\u001b[0m \n\u001b[0;32m    209\u001b[0m \u001b[38;5;124;03m    The decoding strategy depends on the vectorizer parameters.\u001b[39;00m\n\u001b[1;32m   (...)\u001b[0m\n\u001b[0;32m    219\u001b[0m \u001b[38;5;124;03m        A string of unicode symbols.\u001b[39;00m\n\u001b[0;32m    220\u001b[0m \u001b[38;5;124;03m    \"\"\"\u001b[39;00m\n\u001b[0;32m    221\u001b[0m     \u001b[38;5;28;01mif\u001b[39;00m \u001b[38;5;28mself\u001b[39m\u001b[38;5;241m.\u001b[39minput \u001b[38;5;241m==\u001b[39m \u001b[38;5;124m\"\u001b[39m\u001b[38;5;124mfilename\u001b[39m\u001b[38;5;124m\"\u001b[39m:\n",
      "\u001b[1;31mKeyboardInterrupt\u001b[0m: "
     ]
    }
   ],
   "source": [
    "import pandas as pd\n",
    "from sklearn.feature_extraction.text import TfidfVectorizer\n",
    "from sklearn.metrics.pairwise import cosine_similarity\n",
    "\n",
    "# Example: Using a subset of your dataframe\n",
    "# big_df should have columns: \"Crop\", \"disease_name\", \"Question\", \"KccAns\"\n",
    "# We'll combine Question + Answer for similarity\n",
    "df = big_df.copy()\n",
    "\n",
    "# Create a combined text column\n",
    "df[\"combined\"] = df[\"QueryText\"].astype(str) + \" \" + df[\"KccAns\"].astype(str)\n",
    "\n",
    "# To store filtered rows\n",
    "filtered_rows = []\n",
    "\n",
    "# Loop through each crop and disease\n",
    "for crop in df[\"Crop\"].unique():\n",
    "    crop_df = df[df[\"Crop\"] == crop]\n",
    "    for disease in crop_df[\"disease_name\"].unique():\n",
    "        temp_df = crop_df[crop_df[\"disease_name\"] == disease].copy()\n",
    "        temp_df = temp_df.reset_index(drop=True)\n",
    "        \n",
    "        # Copy of dataframe for comparison\n",
    "        compare_df = temp_df.copy()\n",
    "        \n",
    "        to_keep_indices = []\n",
    "        \n",
    "        # Loop through each row in temp_df\n",
    "        for idx, row in temp_df.iterrows():\n",
    "\n",
    "            if idx not in compare_df.index:\n",
    "                continue\n",
    "            \n",
    "            combined_text = row[\"combined\"]\n",
    "            \n",
    "            if compare_df.empty:\n",
    "                break\n",
    "            \n",
    "            # Compute cosine similarity between current row and all rows in compare_df\n",
    "            tfidf = TfidfVectorizer()\n",
    "            texts = [combined_text] + compare_df[\"combined\"].tolist()\n",
    "            tfidf_matrix = tfidf.fit_transform(texts)\n",
    "            cos_sim = cosine_similarity(tfidf_matrix[0:1], tfidf_matrix[1:]).flatten()\n",
    "            \n",
    "            # Keep current row\n",
    "            to_keep_indices.append(idx)\n",
    "            \n",
    "            # Delete rows in compare_df that are too similar (>0.75) and same exact Q+A\n",
    "            delete_indices = compare_df.index[(cos_sim > 0.75) & \n",
    "                                              (compare_df[\"combined\"] == combined_text)]\n",
    "            compare_df = compare_df.drop(delete_indices)\n",
    "        \n",
    "        filtered_rows.append(temp_df.loc[to_keep_indices])\n",
    "\n",
    "# Combine all filtered data\n",
    "final_df = pd.concat(filtered_rows).reset_index(drop=True)\n",
    "\n",
    "# print(final_df)\n"
   ]
  },
  {
   "cell_type": "code",
   "execution_count": null,
   "id": "5496b82d",
   "metadata": {},
   "outputs": [],
   "source": []
  },
  {
   "cell_type": "code",
   "execution_count": 72,
   "id": "37c4cc4e",
   "metadata": {},
   "outputs": [
    {
     "data": {
      "text/html": [
       "<div>\n",
       "<style scoped>\n",
       "    .dataframe tbody tr th:only-of-type {\n",
       "        vertical-align: middle;\n",
       "    }\n",
       "\n",
       "    .dataframe tbody tr th {\n",
       "        vertical-align: top;\n",
       "    }\n",
       "\n",
       "    .dataframe thead th {\n",
       "        text-align: right;\n",
       "    }\n",
       "</style>\n",
       "<table border=\"1\" class=\"dataframe\">\n",
       "  <thead>\n",
       "    <tr style=\"text-align: right;\">\n",
       "      <th></th>\n",
       "      <th>Crop</th>\n",
       "      <th>disease_name</th>\n",
       "    </tr>\n",
       "  </thead>\n",
       "  <tbody>\n",
       "    <tr>\n",
       "      <th>0</th>\n",
       "      <td>Apple</td>\n",
       "      <td>Alternaria leaf blotch</td>\n",
       "    </tr>\n",
       "    <tr>\n",
       "      <th>1</th>\n",
       "      <td>Apple</td>\n",
       "      <td>Alternaria leaf blotch</td>\n",
       "    </tr>\n",
       "    <tr>\n",
       "      <th>23</th>\n",
       "      <td>Apple</td>\n",
       "      <td>Alternaria leaf blotch</td>\n",
       "    </tr>\n",
       "    <tr>\n",
       "      <th>24</th>\n",
       "      <td>Apple</td>\n",
       "      <td>Alternaria leaf blotch</td>\n",
       "    </tr>\n",
       "    <tr>\n",
       "      <th>25</th>\n",
       "      <td>Apple</td>\n",
       "      <td>Alternaria leaf blotch</td>\n",
       "    </tr>\n",
       "    <tr>\n",
       "      <th>26</th>\n",
       "      <td>Apple</td>\n",
       "      <td>Alternaria leaf blotch</td>\n",
       "    </tr>\n",
       "    <tr>\n",
       "      <th>27</th>\n",
       "      <td>Apple</td>\n",
       "      <td>Alternaria leaf blotch</td>\n",
       "    </tr>\n",
       "    <tr>\n",
       "      <th>28</th>\n",
       "      <td>Apple</td>\n",
       "      <td>Alternaria leaf blotch</td>\n",
       "    </tr>\n",
       "    <tr>\n",
       "      <th>29</th>\n",
       "      <td>Apple</td>\n",
       "      <td>Alternaria leaf blotch</td>\n",
       "    </tr>\n",
       "    <tr>\n",
       "      <th>30</th>\n",
       "      <td>Apple</td>\n",
       "      <td>Alternaria leaf blotch</td>\n",
       "    </tr>\n",
       "  </tbody>\n",
       "</table>\n",
       "</div>"
      ],
      "text/plain": [
       "     Crop            disease_name\n",
       "0   Apple  Alternaria leaf blotch\n",
       "1   Apple  Alternaria leaf blotch\n",
       "23  Apple  Alternaria leaf blotch\n",
       "24  Apple  Alternaria leaf blotch\n",
       "25  Apple  Alternaria leaf blotch\n",
       "26  Apple  Alternaria leaf blotch\n",
       "27  Apple  Alternaria leaf blotch\n",
       "28  Apple  Alternaria leaf blotch\n",
       "29  Apple  Alternaria leaf blotch\n",
       "30  Apple  Alternaria leaf blotch"
      ]
     },
     "execution_count": 72,
     "metadata": {},
     "output_type": "execute_result"
    }
   ],
   "source": [
    "big_df[[\"Crop\",\"disease_name\"]].head(10)"
   ]
  },
  {
   "cell_type": "code",
   "execution_count": null,
   "id": "d5a906c7",
   "metadata": {},
   "outputs": [],
   "source": [
    "big_df"
   ]
  },
  {
   "cell_type": "code",
   "execution_count": null,
   "id": "26edc009",
   "metadata": {},
   "outputs": [],
   "source": []
  },
  {
   "cell_type": "code",
   "execution_count": null,
   "id": "405793b2",
   "metadata": {},
   "outputs": [],
   "source": []
  },
  {
   "cell_type": "code",
   "execution_count": null,
   "id": "23f02949",
   "metadata": {},
   "outputs": [],
   "source": [
    "import pandas as pd\n",
    "from sklearn.feature_extraction.text import TfidfVectorizer\n",
    "from sklearn.metrics.pairwise import cosine_similarity\n",
    "\n",
    "# Sample DataFrame\n",
    "data = {\n",
    "    \"KccAns\": [\n",
    "        \"The patient has a fever and cough\",\n",
    "        \"Patient exhibits cough and fever\",\n",
    "        \"No symptoms reported\",\n",
    "        \"Fever and headache observed\",\n",
    "        \"Patient is healthy\"\n",
    "    ]\n",
    "}\n",
    "\n",
    "df = pd.DataFrame(data)\n",
    "\n",
    "# Your query text\n",
    "query_text = \"Fever and cough observed in patient\"\n",
    "\n",
    "# Combine query with all rows\n",
    "all_texts = df[\"KccAns\"].tolist()\n",
    "all_texts.insert(0, query_text)  # query becomes first element\n",
    "\n",
    "# Compute TF-IDF vectors\n",
    "tfidf = TfidfVectorizer()\n",
    "tfidf_matrix = tfidf.fit_transform(all_texts)\n",
    "\n",
    "# Compute cosine similarity between query and all rows\n",
    "cos_sim = cosine_similarity(tfidf_matrix[0:1], tfidf_matrix[1:]).flatten()\n",
    "\n",
    "# Add similarity scores to the dataframe\n",
    "df[\"similarity_to_query\"] = cos_sim\n",
    "\n",
    "# Filter rows with high similarity (e.g., > 0.7)\n",
    "similar_rows = df[df[\"similarity_to_query\"] > 0.7]\n",
    "\n",
    "print(df)\n",
    "print(\"\\nRows too similar to query:\")\n",
    "print(similar_rows)\n"
   ]
  },
  {
   "cell_type": "code",
   "execution_count": 80,
   "id": "d42655c6",
   "metadata": {},
   "outputs": [
    {
     "data": {
      "text/html": [
       "<div>\n",
       "<style scoped>\n",
       "    .dataframe tbody tr th:only-of-type {\n",
       "        vertical-align: middle;\n",
       "    }\n",
       "\n",
       "    .dataframe tbody tr th {\n",
       "        vertical-align: top;\n",
       "    }\n",
       "\n",
       "    .dataframe thead th {\n",
       "        text-align: right;\n",
       "    }\n",
       "</style>\n",
       "<table border=\"1\" class=\"dataframe\">\n",
       "  <thead>\n",
       "    <tr style=\"text-align: right;\">\n",
       "      <th></th>\n",
       "      <th>KccAns</th>\n",
       "      <th>similarity_to_query</th>\n",
       "    </tr>\n",
       "  </thead>\n",
       "  <tbody>\n",
       "    <tr>\n",
       "      <th>0</th>\n",
       "      <td>The patient has a fever and cough</td>\n",
       "      <td>0.455891</td>\n",
       "    </tr>\n",
       "    <tr>\n",
       "      <th>1</th>\n",
       "      <td>Patient exhibits cough and fever</td>\n",
       "      <td>0.538348</td>\n",
       "    </tr>\n",
       "    <tr>\n",
       "      <th>2</th>\n",
       "      <td>No symptoms reported</td>\n",
       "      <td>0.000000</td>\n",
       "    </tr>\n",
       "    <tr>\n",
       "      <th>3</th>\n",
       "      <td>Fever and headache observed</td>\n",
       "      <td>0.498518</td>\n",
       "    </tr>\n",
       "    <tr>\n",
       "      <th>4</th>\n",
       "      <td>Patient is healthy</td>\n",
       "      <td>0.128140</td>\n",
       "    </tr>\n",
       "  </tbody>\n",
       "</table>\n",
       "</div>"
      ],
      "text/plain": [
       "                              KccAns  similarity_to_query\n",
       "0  The patient has a fever and cough             0.455891\n",
       "1   Patient exhibits cough and fever             0.538348\n",
       "2               No symptoms reported             0.000000\n",
       "3        Fever and headache observed             0.498518\n",
       "4                 Patient is healthy             0.128140"
      ]
     },
     "execution_count": 80,
     "metadata": {},
     "output_type": "execute_result"
    }
   ],
   "source": [
    "df"
   ]
  },
  {
   "cell_type": "code",
   "execution_count": 76,
   "id": "8e4cf254",
   "metadata": {},
   "outputs": [
    {
     "data": {
      "image/png": "[encoded data removed]",
      "text/plain": [
       "<Figure size 640x480 with 1 Axes>"
      ]
     },
     "metadata": {},
     "output_type": "display_data"
    }
   ],
   "source": [
    "import matplotlib.pyplot as plt\n",
    "\n",
    "# Histogram\n",
    "big_df[\"Crop\"].hist(bins=20, edgecolor=\"black\")\n",
    "\n",
    "plt.xlabel(\"Crops\")\n",
    "plt.ylabel(\"Frequency\")\n",
    "plt.title(\"Histogram of Crops\")\n",
    "plt.show()"
   ]
  },
  {
   "cell_type": "code",
   "execution_count": 60,
   "id": "974b62d6",
   "metadata": {},
   "outputs": [
    {
     "data": {
      "text/html": [
       "<div>\n",
       "<style scoped>\n",
       "    .dataframe tbody tr th:only-of-type {\n",
       "        vertical-align: middle;\n",
       "    }\n",
       "\n",
       "    .dataframe tbody tr th {\n",
       "        vertical-align: top;\n",
       "    }\n",
       "\n",
       "    .dataframe thead th {\n",
       "        text-align: right;\n",
       "    }\n",
       "</style>\n",
       "<table border=\"1\" class=\"dataframe\">\n",
       "  <thead>\n",
       "    <tr style=\"text-align: right;\">\n",
       "      <th></th>\n",
       "      <th>DistrictName</th>\n",
       "      <th>StateName</th>\n",
       "      <th>Season</th>\n",
       "      <th>Month</th>\n",
       "      <th>disease_name</th>\n",
       "      <th>QueryText</th>\n",
       "      <th>KccAns</th>\n",
       "      <th>Crop</th>\n",
       "      <th>word_count</th>\n",
       "    </tr>\n",
       "  </thead>\n",
       "  <tbody>\n",
       "  </tbody>\n",
       "</table>\n",
       "</div>"
      ],
      "text/plain": [
       "Empty DataFrame\n",
       "Columns: [DistrictName, StateName, Season, Month, disease_name, QueryText, KccAns, Crop, word_count]\n",
       "Index: []"
      ]
     },
     "execution_count": 60,
     "metadata": {},
     "output_type": "execute_result"
    }
   ],
   "source": [
    "big_df[big_df['KccAns'].str.isnumeric()]"
   ]
  },
  {
   "cell_type": "code",
   "execution_count": null,
   "id": "639287b1",
   "metadata": {},
   "outputs": [],
   "source": [
    "def jaccard_similarity(set1, set2):\n",
    "    intersection = len(set1.intersection(set2))\n",
    "    union = len(set1.union(set2))\n",
    "    return intersection / union if union != 0 else 0\n",
    "\n",
    "A = {\"apple\", \"banana\", \"cherry\"}\n",
    "B = {\"banana\", \"cherry\", \"date\", \"fig\"}\n",
    "\n",
    "print(\"Jaccard Similarity:\", jaccard_similarity(A, B))  # 0.4"
   ]
  },
  {
   "cell_type": "code",
   "execution_count": null,
   "id": "7a2d1371",
   "metadata": {},
   "outputs": [],
   "source": []
  },
  {
   "cell_type": "code",
   "execution_count": 40,
   "id": "46f3243f",
   "metadata": {},
   "outputs": [
    {
     "ename": "FileNotFoundError",
     "evalue": "[Errno 2] No such file or directory: 'filtered_data.csv'",
     "output_type": "error",
     "traceback": [
      "\u001b[1;31m---------------------------------------------------------------------------\u001b[0m",
      "\u001b[1;31mFileNotFoundError\u001b[0m                         Traceback (most recent call last)",
      "Cell \u001b[1;32mIn[40], line 1\u001b[0m\n\u001b[1;32m----> 1\u001b[0m dataframe \u001b[38;5;241m=\u001b[39m \u001b[43mpd\u001b[49m\u001b[38;5;241;43m.\u001b[39;49m\u001b[43mread_csv\u001b[49m\u001b[43m(\u001b[49m\u001b[38;5;124;43m\"\u001b[39;49m\u001b[38;5;124;43mfiltered_data.csv\u001b[39;49m\u001b[38;5;124;43m\"\u001b[39;49m\u001b[43m)\u001b[49m\n",
      "File \u001b[1;32mc:\\Users\\HP\\AppData\\Local\\Programs\\Python\\Python310\\lib\\site-packages\\pandas\\io\\parsers\\readers.py:1026\u001b[0m, in \u001b[0;36mread_csv\u001b[1;34m(filepath_or_buffer, sep, delimiter, header, names, index_col, usecols, dtype, engine, converters, true_values, false_values, skipinitialspace, skiprows, skipfooter, nrows, na_values, keep_default_na, na_filter, verbose, skip_blank_lines, parse_dates, infer_datetime_format, keep_date_col, date_parser, date_format, dayfirst, cache_dates, iterator, chunksize, compression, thousands, decimal, lineterminator, quotechar, quoting, doublequote, escapechar, comment, encoding, encoding_errors, dialect, on_bad_lines, delim_whitespace, low_memory, memory_map, float_precision, storage_options, dtype_backend)\u001b[0m\n\u001b[0;32m   1013\u001b[0m kwds_defaults \u001b[38;5;241m=\u001b[39m _refine_defaults_read(\n\u001b[0;32m   1014\u001b[0m     dialect,\n\u001b[0;32m   1015\u001b[0m     delimiter,\n\u001b[1;32m   (...)\u001b[0m\n\u001b[0;32m   1022\u001b[0m     dtype_backend\u001b[38;5;241m=\u001b[39mdtype_backend,\n\u001b[0;32m   1023\u001b[0m )\n\u001b[0;32m   1024\u001b[0m kwds\u001b[38;5;241m.\u001b[39mupdate(kwds_defaults)\n\u001b[1;32m-> 1026\u001b[0m \u001b[38;5;28;01mreturn\u001b[39;00m \u001b[43m_read\u001b[49m\u001b[43m(\u001b[49m\u001b[43mfilepath_or_buffer\u001b[49m\u001b[43m,\u001b[49m\u001b[43m \u001b[49m\u001b[43mkwds\u001b[49m\u001b[43m)\u001b[49m\n",
      "File \u001b[1;32mc:\\Users\\HP\\AppData\\Local\\Programs\\Python\\Python310\\lib\\site-packages\\pandas\\io\\parsers\\readers.py:620\u001b[0m, in \u001b[0;36m_read\u001b[1;34m(filepath_or_buffer, kwds)\u001b[0m\n\u001b[0;32m    617\u001b[0m _validate_names(kwds\u001b[38;5;241m.\u001b[39mget(\u001b[38;5;124m\"\u001b[39m\u001b[38;5;124mnames\u001b[39m\u001b[38;5;124m\"\u001b[39m, \u001b[38;5;28;01mNone\u001b[39;00m))\n\u001b[0;32m    619\u001b[0m \u001b[38;5;66;03m# Create the parser.\u001b[39;00m\n\u001b[1;32m--> 620\u001b[0m parser \u001b[38;5;241m=\u001b[39m TextFileReader(filepath_or_buffer, \u001b[38;5;241m*\u001b[39m\u001b[38;5;241m*\u001b[39mkwds)\n\u001b[0;32m    622\u001b[0m \u001b[38;5;28;01mif\u001b[39;00m chunksize \u001b[38;5;129;01mor\u001b[39;00m iterator:\n\u001b[0;32m    623\u001b[0m     \u001b[38;5;28;01mreturn\u001b[39;00m parser\n",
      "File \u001b[1;32mc:\\Users\\HP\\AppData\\Local\\Programs\\Python\\Python310\\lib\\site-packages\\pandas\\io\\parsers\\readers.py:1620\u001b[0m, in \u001b[0;36mTextFileReader.__init__\u001b[1;34m(self, f, engine, **kwds)\u001b[0m\n\u001b[0;32m   1617\u001b[0m     \u001b[38;5;28mself\u001b[39m\u001b[38;5;241m.\u001b[39moptions[\u001b[38;5;124m\"\u001b[39m\u001b[38;5;124mhas_index_names\u001b[39m\u001b[38;5;124m\"\u001b[39m] \u001b[38;5;241m=\u001b[39m kwds[\u001b[38;5;124m\"\u001b[39m\u001b[38;5;124mhas_index_names\u001b[39m\u001b[38;5;124m\"\u001b[39m]\n\u001b[0;32m   1619\u001b[0m \u001b[38;5;28mself\u001b[39m\u001b[38;5;241m.\u001b[39mhandles: IOHandles \u001b[38;5;241m|\u001b[39m \u001b[38;5;28;01mNone\u001b[39;00m \u001b[38;5;241m=\u001b[39m \u001b[38;5;28;01mNone\u001b[39;00m\n\u001b[1;32m-> 1620\u001b[0m \u001b[38;5;28mself\u001b[39m\u001b[38;5;241m.\u001b[39m_engine \u001b[38;5;241m=\u001b[39m \u001b[38;5;28;43mself\u001b[39;49m\u001b[38;5;241;43m.\u001b[39;49m\u001b[43m_make_engine\u001b[49m\u001b[43m(\u001b[49m\u001b[43mf\u001b[49m\u001b[43m,\u001b[49m\u001b[43m \u001b[49m\u001b[38;5;28;43mself\u001b[39;49m\u001b[38;5;241;43m.\u001b[39;49m\u001b[43mengine\u001b[49m\u001b[43m)\u001b[49m\n",
      "File \u001b[1;32mc:\\Users\\HP\\AppData\\Local\\Programs\\Python\\Python310\\lib\\site-packages\\pandas\\io\\parsers\\readers.py:1880\u001b[0m, in \u001b[0;36mTextFileReader._make_engine\u001b[1;34m(self, f, engine)\u001b[0m\n\u001b[0;32m   1878\u001b[0m     \u001b[38;5;28;01mif\u001b[39;00m \u001b[38;5;124m\"\u001b[39m\u001b[38;5;124mb\u001b[39m\u001b[38;5;124m\"\u001b[39m \u001b[38;5;129;01mnot\u001b[39;00m \u001b[38;5;129;01min\u001b[39;00m mode:\n\u001b[0;32m   1879\u001b[0m         mode \u001b[38;5;241m+\u001b[39m\u001b[38;5;241m=\u001b[39m \u001b[38;5;124m\"\u001b[39m\u001b[38;5;124mb\u001b[39m\u001b[38;5;124m\"\u001b[39m\n\u001b[1;32m-> 1880\u001b[0m \u001b[38;5;28mself\u001b[39m\u001b[38;5;241m.\u001b[39mhandles \u001b[38;5;241m=\u001b[39m \u001b[43mget_handle\u001b[49m\u001b[43m(\u001b[49m\n\u001b[0;32m   1881\u001b[0m \u001b[43m    \u001b[49m\u001b[43mf\u001b[49m\u001b[43m,\u001b[49m\n\u001b[0;32m   1882\u001b[0m \u001b[43m    \u001b[49m\u001b[43mmode\u001b[49m\u001b[43m,\u001b[49m\n\u001b[0;32m   1883\u001b[0m \u001b[43m    \u001b[49m\u001b[43mencoding\u001b[49m\u001b[38;5;241;43m=\u001b[39;49m\u001b[38;5;28;43mself\u001b[39;49m\u001b[38;5;241;43m.\u001b[39;49m\u001b[43moptions\u001b[49m\u001b[38;5;241;43m.\u001b[39;49m\u001b[43mget\u001b[49m\u001b[43m(\u001b[49m\u001b[38;5;124;43m\"\u001b[39;49m\u001b[38;5;124;43mencoding\u001b[39;49m\u001b[38;5;124;43m\"\u001b[39;49m\u001b[43m,\u001b[49m\u001b[43m \u001b[49m\u001b[38;5;28;43;01mNone\u001b[39;49;00m\u001b[43m)\u001b[49m\u001b[43m,\u001b[49m\n\u001b[0;32m   1884\u001b[0m \u001b[43m    \u001b[49m\u001b[43mcompression\u001b[49m\u001b[38;5;241;43m=\u001b[39;49m\u001b[38;5;28;43mself\u001b[39;49m\u001b[38;5;241;43m.\u001b[39;49m\u001b[43moptions\u001b[49m\u001b[38;5;241;43m.\u001b[39;49m\u001b[43mget\u001b[49m\u001b[43m(\u001b[49m\u001b[38;5;124;43m\"\u001b[39;49m\u001b[38;5;124;43mcompression\u001b[39;49m\u001b[38;5;124;43m\"\u001b[39;49m\u001b[43m,\u001b[49m\u001b[43m \u001b[49m\u001b[38;5;28;43;01mNone\u001b[39;49;00m\u001b[43m)\u001b[49m\u001b[43m,\u001b[49m\n\u001b[0;32m   1885\u001b[0m \u001b[43m    \u001b[49m\u001b[43mmemory_map\u001b[49m\u001b[38;5;241;43m=\u001b[39;49m\u001b[38;5;28;43mself\u001b[39;49m\u001b[38;5;241;43m.\u001b[39;49m\u001b[43moptions\u001b[49m\u001b[38;5;241;43m.\u001b[39;49m\u001b[43mget\u001b[49m\u001b[43m(\u001b[49m\u001b[38;5;124;43m\"\u001b[39;49m\u001b[38;5;124;43mmemory_map\u001b[39;49m\u001b[38;5;124;43m\"\u001b[39;49m\u001b[43m,\u001b[49m\u001b[43m \u001b[49m\u001b[38;5;28;43;01mFalse\u001b[39;49;00m\u001b[43m)\u001b[49m\u001b[43m,\u001b[49m\n\u001b[0;32m   1886\u001b[0m \u001b[43m    \u001b[49m\u001b[43mis_text\u001b[49m\u001b[38;5;241;43m=\u001b[39;49m\u001b[43mis_text\u001b[49m\u001b[43m,\u001b[49m\n\u001b[0;32m   1887\u001b[0m \u001b[43m    \u001b[49m\u001b[43merrors\u001b[49m\u001b[38;5;241;43m=\u001b[39;49m\u001b[38;5;28;43mself\u001b[39;49m\u001b[38;5;241;43m.\u001b[39;49m\u001b[43moptions\u001b[49m\u001b[38;5;241;43m.\u001b[39;49m\u001b[43mget\u001b[49m\u001b[43m(\u001b[49m\u001b[38;5;124;43m\"\u001b[39;49m\u001b[38;5;124;43mencoding_errors\u001b[39;49m\u001b[38;5;124;43m\"\u001b[39;49m\u001b[43m,\u001b[49m\u001b[43m \u001b[49m\u001b[38;5;124;43m\"\u001b[39;49m\u001b[38;5;124;43mstrict\u001b[39;49m\u001b[38;5;124;43m\"\u001b[39;49m\u001b[43m)\u001b[49m\u001b[43m,\u001b[49m\n\u001b[0;32m   1888\u001b[0m \u001b[43m    \u001b[49m\u001b[43mstorage_options\u001b[49m\u001b[38;5;241;43m=\u001b[39;49m\u001b[38;5;28;43mself\u001b[39;49m\u001b[38;5;241;43m.\u001b[39;49m\u001b[43moptions\u001b[49m\u001b[38;5;241;43m.\u001b[39;49m\u001b[43mget\u001b[49m\u001b[43m(\u001b[49m\u001b[38;5;124;43m\"\u001b[39;49m\u001b[38;5;124;43mstorage_options\u001b[39;49m\u001b[38;5;124;43m\"\u001b[39;49m\u001b[43m,\u001b[49m\u001b[43m \u001b[49m\u001b[38;5;28;43;01mNone\u001b[39;49;00m\u001b[43m)\u001b[49m\u001b[43m,\u001b[49m\n\u001b[0;32m   1889\u001b[0m \u001b[43m\u001b[49m\u001b[43m)\u001b[49m\n\u001b[0;32m   1890\u001b[0m \u001b[38;5;28;01massert\u001b[39;00m \u001b[38;5;28mself\u001b[39m\u001b[38;5;241m.\u001b[39mhandles \u001b[38;5;129;01mis\u001b[39;00m \u001b[38;5;129;01mnot\u001b[39;00m \u001b[38;5;28;01mNone\u001b[39;00m\n\u001b[0;32m   1891\u001b[0m f \u001b[38;5;241m=\u001b[39m \u001b[38;5;28mself\u001b[39m\u001b[38;5;241m.\u001b[39mhandles\u001b[38;5;241m.\u001b[39mhandle\n",
      "File \u001b[1;32mc:\\Users\\HP\\AppData\\Local\\Programs\\Python\\Python310\\lib\\site-packages\\pandas\\io\\common.py:873\u001b[0m, in \u001b[0;36mget_handle\u001b[1;34m(path_or_buf, mode, encoding, compression, memory_map, is_text, errors, storage_options)\u001b[0m\n\u001b[0;32m    868\u001b[0m \u001b[38;5;28;01melif\u001b[39;00m \u001b[38;5;28misinstance\u001b[39m(handle, \u001b[38;5;28mstr\u001b[39m):\n\u001b[0;32m    869\u001b[0m     \u001b[38;5;66;03m# Check whether the filename is to be opened in binary mode.\u001b[39;00m\n\u001b[0;32m    870\u001b[0m     \u001b[38;5;66;03m# Binary mode does not support 'encoding' and 'newline'.\u001b[39;00m\n\u001b[0;32m    871\u001b[0m     \u001b[38;5;28;01mif\u001b[39;00m ioargs\u001b[38;5;241m.\u001b[39mencoding \u001b[38;5;129;01mand\u001b[39;00m \u001b[38;5;124m\"\u001b[39m\u001b[38;5;124mb\u001b[39m\u001b[38;5;124m\"\u001b[39m \u001b[38;5;129;01mnot\u001b[39;00m \u001b[38;5;129;01min\u001b[39;00m ioargs\u001b[38;5;241m.\u001b[39mmode:\n\u001b[0;32m    872\u001b[0m         \u001b[38;5;66;03m# Encoding\u001b[39;00m\n\u001b[1;32m--> 873\u001b[0m         handle \u001b[38;5;241m=\u001b[39m \u001b[38;5;28;43mopen\u001b[39;49m\u001b[43m(\u001b[49m\n\u001b[0;32m    874\u001b[0m \u001b[43m            \u001b[49m\u001b[43mhandle\u001b[49m\u001b[43m,\u001b[49m\n\u001b[0;32m    875\u001b[0m \u001b[43m            \u001b[49m\u001b[43mioargs\u001b[49m\u001b[38;5;241;43m.\u001b[39;49m\u001b[43mmode\u001b[49m\u001b[43m,\u001b[49m\n\u001b[0;32m    876\u001b[0m \u001b[43m            \u001b[49m\u001b[43mencoding\u001b[49m\u001b[38;5;241;43m=\u001b[39;49m\u001b[43mioargs\u001b[49m\u001b[38;5;241;43m.\u001b[39;49m\u001b[43mencoding\u001b[49m\u001b[43m,\u001b[49m\n\u001b[0;32m    877\u001b[0m \u001b[43m            \u001b[49m\u001b[43merrors\u001b[49m\u001b[38;5;241;43m=\u001b[39;49m\u001b[43merrors\u001b[49m\u001b[43m,\u001b[49m\n\u001b[0;32m    878\u001b[0m \u001b[43m            \u001b[49m\u001b[43mnewline\u001b[49m\u001b[38;5;241;43m=\u001b[39;49m\u001b[38;5;124;43m\"\u001b[39;49m\u001b[38;5;124;43m\"\u001b[39;49m\u001b[43m,\u001b[49m\n\u001b[0;32m    879\u001b[0m \u001b[43m        \u001b[49m\u001b[43m)\u001b[49m\n\u001b[0;32m    880\u001b[0m     \u001b[38;5;28;01melse\u001b[39;00m:\n\u001b[0;32m    881\u001b[0m         \u001b[38;5;66;03m# Binary mode\u001b[39;00m\n\u001b[0;32m    882\u001b[0m         handle \u001b[38;5;241m=\u001b[39m \u001b[38;5;28mopen\u001b[39m(handle, ioargs\u001b[38;5;241m.\u001b[39mmode)\n",
      "\u001b[1;31mFileNotFoundError\u001b[0m: [Errno 2] No such file or directory: 'filtered_data.csv'"
     ]
    }
   ],
   "source": [
    "dataframe = pd.read_csv(\"filtered_data.csv\")"
   ]
  },
  {
   "cell_type": "code",
   "execution_count": null,
   "id": "140c4d14",
   "metadata": {},
   "outputs": [],
   "source": [
    "dataframe[\"Crop\"] = dataframe[\"Crop\"].replace(\"Paddy Dhan\", \"Paddy_Dhan\")"
   ]
  },
  {
   "cell_type": "code",
   "execution_count": null,
   "id": "1ddefb5e",
   "metadata": {},
   "outputs": [
    {
     "data": {
      "text/plain": [
       "154081"
      ]
     },
     "execution_count": 13,
     "metadata": {},
     "output_type": "execute_result"
    }
   ],
   "source": [
    "len(dataframe)"
   ]
  },
  {
   "cell_type": "code",
   "execution_count": null,
   "id": "3157a160",
   "metadata": {},
   "outputs": [
    {
     "data": {
      "text/plain": [
       "array(['Apple', 'Coconut', 'Paddy_Dhan', 'Potato', 'Tomato'], dtype=object)"
      ]
     },
     "execution_count": 14,
     "metadata": {},
     "output_type": "execute_result"
    }
   ],
   "source": [
    "dataframe[\"Crop\"].unique()"
   ]
  },
  {
   "cell_type": "code",
   "execution_count": null,
   "id": "4b4cb04f",
   "metadata": {},
   "outputs": [],
   "source": [
    "dataframe = dataframe.rename(columns={\"Season English\": \"Season_English\"})"
   ]
  },
  {
   "cell_type": "code",
   "execution_count": null,
   "id": "ea2825f1",
   "metadata": {},
   "outputs": [],
   "source": [
    "import calendar\n",
    "dataframe[\"Month\"] = dataframe[\"Month\"].apply(lambda x: calendar.month_name[x])"
   ]
  },
  {
   "cell_type": "code",
   "execution_count": null,
   "id": "5e7a4ccf",
   "metadata": {},
   "outputs": [
    {
     "data": {
      "text/html": [
       "<div>\n",
       "<style scoped>\n",
       "    .dataframe tbody tr th:only-of-type {\n",
       "        vertical-align: middle;\n",
       "    }\n",
       "\n",
       "    .dataframe tbody tr th {\n",
       "        vertical-align: top;\n",
       "    }\n",
       "\n",
       "    .dataframe thead th {\n",
       "        text-align: right;\n",
       "    }\n",
       "</style>\n",
       "<table border=\"1\" class=\"dataframe\">\n",
       "  <thead>\n",
       "    <tr style=\"text-align: right;\">\n",
       "      <th></th>\n",
       "      <th>Unnamed: 0</th>\n",
       "      <th>BlockName</th>\n",
       "      <th>Category</th>\n",
       "      <th>Year</th>\n",
       "      <th>Month</th>\n",
       "      <th>Day</th>\n",
       "      <th>Crop</th>\n",
       "      <th>DistrictName</th>\n",
       "      <th>QueryType</th>\n",
       "      <th>Season</th>\n",
       "      <th>...</th>\n",
       "      <th>StateName</th>\n",
       "      <th>QueryText</th>\n",
       "      <th>KccAns</th>\n",
       "      <th>latitude</th>\n",
       "      <th>longitude</th>\n",
       "      <th>Disease</th>\n",
       "      <th>kcc_word_count</th>\n",
       "      <th>QueryText_word_count</th>\n",
       "      <th>Season_English</th>\n",
       "      <th>BlockNamenew</th>\n",
       "    </tr>\n",
       "  </thead>\n",
       "  <tbody>\n",
       "    <tr>\n",
       "      <th>0</th>\n",
       "      <td>0</td>\n",
       "      <td>0</td>\n",
       "      <td>0</td>\n",
       "      <td>2010</td>\n",
       "      <td>June</td>\n",
       "      <td>23</td>\n",
       "      <td>Apple</td>\n",
       "      <td>ANANTNAG</td>\n",
       "      <td>0</td>\n",
       "      <td>JAYAD</td>\n",
       "      <td>...</td>\n",
       "      <td>JAMMU AND KASHMIR</td>\n",
       "      <td>control of alternaria leaf blotch in apple tree</td>\n",
       "      <td>keep 60 cm soil around trees trunks undisturde...</td>\n",
       "      <td>33.7461</td>\n",
       "      <td>75.1854</td>\n",
       "      <td>Alternaria_leaf_blotch</td>\n",
       "      <td>9</td>\n",
       "      <td>8</td>\n",
       "      <td>Summer Cropping Season</td>\n",
       "      <td>0</td>\n",
       "    </tr>\n",
       "    <tr>\n",
       "      <th>1</th>\n",
       "      <td>1</td>\n",
       "      <td>0</td>\n",
       "      <td>0</td>\n",
       "      <td>2010</td>\n",
       "      <td>June</td>\n",
       "      <td>18</td>\n",
       "      <td>Apple</td>\n",
       "      <td>BARAMULLA</td>\n",
       "      <td>0</td>\n",
       "      <td>JAYAD</td>\n",
       "      <td>...</td>\n",
       "      <td>JAMMU AND KASHMIR</td>\n",
       "      <td>farmer wants information about the control of ...</td>\n",
       "      <td>the control of alternaria leaf blotch in apple...</td>\n",
       "      <td>34.2087</td>\n",
       "      <td>74.3435</td>\n",
       "      <td>Alternaria_leaf_blotch</td>\n",
       "      <td>19</td>\n",
       "      <td>13</td>\n",
       "      <td>Summer Cropping Season</td>\n",
       "      <td>0</td>\n",
       "    </tr>\n",
       "  </tbody>\n",
       "</table>\n",
       "<p>2 rows × 21 columns</p>\n",
       "</div>"
      ],
      "text/plain": [
       "   Unnamed: 0 BlockName Category  Year Month  Day   Crop DistrictName  \\\n",
       "0           0      0           0  2010  June   23  Apple     ANANTNAG   \n",
       "1           1      0           0  2010  June   18  Apple    BARAMULLA   \n",
       "\n",
       "  QueryType Season  ...          StateName  \\\n",
       "0         0  JAYAD  ...  JAMMU AND KASHMIR   \n",
       "1         0  JAYAD  ...  JAMMU AND KASHMIR   \n",
       "\n",
       "                                           QueryText  \\\n",
       "0    control of alternaria leaf blotch in apple tree   \n",
       "1  farmer wants information about the control of ...   \n",
       "\n",
       "                                              KccAns latitude  longitude  \\\n",
       "0  keep 60 cm soil around trees trunks undisturde...  33.7461    75.1854   \n",
       "1  the control of alternaria leaf blotch in apple...  34.2087    74.3435   \n",
       "\n",
       "                  Disease kcc_word_count  QueryText_word_count  \\\n",
       "0  Alternaria_leaf_blotch              9                     8   \n",
       "1  Alternaria_leaf_blotch             19                    13   \n",
       "\n",
       "           Season_English BlockNamenew  \n",
       "0  Summer Cropping Season         0     \n",
       "1  Summer Cropping Season         0     \n",
       "\n",
       "[2 rows x 21 columns]"
      ]
     },
     "execution_count": 20,
     "metadata": {},
     "output_type": "execute_result"
    }
   ],
   "source": [
    "dataframe.head(2)"
   ]
  },
  {
   "cell_type": "code",
   "execution_count": null,
   "id": "957472e4",
   "metadata": {},
   "outputs": [],
   "source": [
    "dataframe = dataframe[[\"DistrictName\",\"StateName\",\"Season_English\",\"Month\",\"Disease\",\"QueryText\",\"KccAns\",\"Crop\"]]"
   ]
  },
  {
   "cell_type": "code",
   "execution_count": null,
   "id": "8cb12be7",
   "metadata": {},
   "outputs": [
    {
     "ename": "NameError",
     "evalue": "name 'dataframe' is not defined",
     "output_type": "error",
     "traceback": [
      "\u001b[1;31m---------------------------------------------------------------------------\u001b[0m",
      "\u001b[1;31mNameError\u001b[0m                                 Traceback (most recent call last)",
      "Cell \u001b[1;32mIn[25], line 1\u001b[0m\n\u001b[1;32m----> 1\u001b[0m \u001b[43mdataframe\u001b[49m\u001b[38;5;241m.\u001b[39mhead(\u001b[38;5;241m2\u001b[39m)\n",
      "\u001b[1;31mNameError\u001b[0m: name 'dataframe' is not defined"
     ]
    }
   ],
   "source": [
    "dataframe.head(2)"
   ]
  },
  {
   "cell_type": "code",
   "execution_count": null,
   "id": "12caca7a",
   "metadata": {},
   "outputs": [
    {
     "data": {
      "text/plain": [
       "154081"
      ]
     },
     "execution_count": 25,
     "metadata": {},
     "output_type": "execute_result"
    }
   ],
   "source": [
    "len(dataframe)"
   ]
  },
  {
   "cell_type": "code",
   "execution_count": 24,
   "id": "3dcf9a55",
   "metadata": {},
   "outputs": [
    {
     "ename": "NameError",
     "evalue": "name 'dataframe' is not defined",
     "output_type": "error",
     "traceback": [
      "\u001b[1;31m---------------------------------------------------------------------------\u001b[0m",
      "\u001b[1;31mNameError\u001b[0m                                 Traceback (most recent call last)",
      "Cell \u001b[1;32mIn[24], line 1\u001b[0m\n\u001b[1;32m----> 1\u001b[0m \u001b[43mdataframe\u001b[49m[\u001b[38;5;124m\"\u001b[39m\u001b[38;5;124mKccAns\u001b[39m\u001b[38;5;124m\"\u001b[39m]\u001b[38;5;241m.\u001b[39munique()\n",
      "\u001b[1;31mNameError\u001b[0m: name 'dataframe' is not defined"
     ]
    }
   ],
   "source": [
    "dataframe[\"KccAns\"].unique()"
   ]
  },
  {
   "cell_type": "code",
   "execution_count": 23,
   "id": "1d02ab4e",
   "metadata": {},
   "outputs": [
    {
     "name": "stdout",
     "output_type": "stream",
     "text": [
      "Jaccard Similarity: 0.4\n"
     ]
    }
   ],
   "source": [
    "def jaccard_similarity(set1, set2):\n",
    "    intersection = len(set1.intersection(set2))\n",
    "    union = len(set1.union(set2))\n",
    "    return intersection / union if union != 0 else 0\n",
    "\n",
    "A = {\"apple\", \"banana\", \"cherry\"}\n",
    "B = {\"banana\", \"cherry\", \"date\", \"fig\"}\n",
    "\n",
    "print(\"Jaccard Similarity:\", jaccard_similarity(A, B))  # 0.4"
   ]
  },
  {
   "cell_type": "code",
   "execution_count": 28,
   "id": "28f937f5",
   "metadata": {},
   "outputs": [
    {
     "data": {
      "text/html": [
       "<div>\n",
       "<style scoped>\n",
       "    .dataframe tbody tr th:only-of-type {\n",
       "        vertical-align: middle;\n",
       "    }\n",
       "\n",
       "    .dataframe tbody tr th {\n",
       "        vertical-align: top;\n",
       "    }\n",
       "\n",
       "    .dataframe thead th {\n",
       "        text-align: right;\n",
       "    }\n",
       "</style>\n",
       "<table border=\"1\" class=\"dataframe\">\n",
       "  <thead>\n",
       "    <tr style=\"text-align: right;\">\n",
       "      <th></th>\n",
       "      <th>DistrictName</th>\n",
       "      <th>StateName</th>\n",
       "      <th>Season_English</th>\n",
       "      <th>Month</th>\n",
       "      <th>Disease</th>\n",
       "      <th>QueryText</th>\n",
       "      <th>KccAns</th>\n",
       "      <th>Crop</th>\n",
       "    </tr>\n",
       "  </thead>\n",
       "  <tbody>\n",
       "    <tr>\n",
       "      <th>count</th>\n",
       "      <td>154081</td>\n",
       "      <td>154081</td>\n",
       "      <td>61313</td>\n",
       "      <td>154081</td>\n",
       "      <td>154007</td>\n",
       "      <td>154081</td>\n",
       "      <td>154081</td>\n",
       "      <td>154081</td>\n",
       "    </tr>\n",
       "    <tr>\n",
       "      <th>unique</th>\n",
       "      <td>643</td>\n",
       "      <td>31</td>\n",
       "      <td>3</td>\n",
       "      <td>12</td>\n",
       "      <td>70</td>\n",
       "      <td>35903</td>\n",
       "      <td>110108</td>\n",
       "      <td>5</td>\n",
       "    </tr>\n",
       "    <tr>\n",
       "      <th>top</th>\n",
       "      <td>BARGARH</td>\n",
       "      <td>ODISHA</td>\n",
       "      <td>Monsoon Cropping Season</td>\n",
       "      <td>September</td>\n",
       "      <td>Dhan_stem_borer</td>\n",
       "      <td>stem borer in paddy</td>\n",
       "      <td>recommended to spray chlorantraniliprole corag...</td>\n",
       "      <td>Paddy_Dhan</td>\n",
       "    </tr>\n",
       "    <tr>\n",
       "      <th>freq</th>\n",
       "      <td>4873</td>\n",
       "      <td>29278</td>\n",
       "      <td>32725</td>\n",
       "      <td>32383</td>\n",
       "      <td>36535</td>\n",
       "      <td>5663</td>\n",
       "      <td>148</td>\n",
       "      <td>111609</td>\n",
       "    </tr>\n",
       "  </tbody>\n",
       "</table>\n",
       "</div>"
      ],
      "text/plain": [
       "       DistrictName StateName           Season_English      Month  \\\n",
       "count        154081    154081                    61313     154081   \n",
       "unique          643        31                        3         12   \n",
       "top         BARGARH    ODISHA  Monsoon Cropping Season  September   \n",
       "freq           4873     29278                    32725      32383   \n",
       "\n",
       "                Disease            QueryText  \\\n",
       "count            154007               154081   \n",
       "unique               70                35903   \n",
       "top     Dhan_stem_borer  stem borer in paddy   \n",
       "freq              36535                 5663   \n",
       "\n",
       "                                                   KccAns        Crop  \n",
       "count                                              154081      154081  \n",
       "unique                                             110108           5  \n",
       "top     recommended to spray chlorantraniliprole corag...  Paddy_Dhan  \n",
       "freq                                                  148      111609  "
      ]
     },
     "execution_count": 28,
     "metadata": {},
     "output_type": "execute_result"
    }
   ],
   "source": [
    "dataframe.describe()"
   ]
  },
  {
   "cell_type": "code",
   "execution_count": 27,
   "id": "045cb346",
   "metadata": {},
   "outputs": [
    {
     "data": {
      "image/png": "[encoded data removed]",
      "text/plain": [
       "<Figure size 640x480 with 1 Axes>"
      ]
     },
     "metadata": {},
     "output_type": "display_data"
    }
   ],
   "source": [
    "import matplotlib.pyplot as plt\n",
    "\n",
    "# Histogram\n",
    "dataframe[\"Crop\"].hist(bins=20, edgecolor=\"black\")\n",
    "\n",
    "plt.xlabel(\"Crops\")\n",
    "plt.ylabel(\"Frequency\")\n",
    "plt.title(\"Histogram of Crops\")\n",
    "plt.show()"
   ]
  },
  {
   "cell_type": "code",
   "execution_count": 24,
   "id": "0e20f3c5",
   "metadata": {},
   "outputs": [
    {
     "data": {
      "text/plain": [
       "DistrictName          0\n",
       "StateName             0\n",
       "Season_English    92768\n",
       "Month                 0\n",
       "Disease              74\n",
       "QueryText             0\n",
       "KccAns                0\n",
       "Crop                  0\n",
       "dtype: int64"
      ]
     },
     "execution_count": 24,
     "metadata": {},
     "output_type": "execute_result"
    }
   ],
   "source": [
    "dataframe.isna().sum()"
   ]
  },
  {
   "cell_type": "code",
   "execution_count": null,
   "id": "3536d5d1",
   "metadata": {},
   "outputs": [],
   "source": []
  },
  {
   "cell_type": "code",
   "execution_count": null,
   "id": "93472abd",
   "metadata": {},
   "outputs": [],
   "source": []
  },
  {
   "cell_type": "code",
   "execution_count": 10,
   "id": "eb8e3344",
   "metadata": {},
   "outputs": [
    {
     "ename": "",
     "evalue": "",
     "output_type": "error",
     "traceback": [
      "\u001b[1;31mThe Kernel crashed while executing code in the current cell or a previous cell. \n",
      "\u001b[1;31mPlease review the code in the cell(s) to identify a possible cause of the failure. \n",
      "\u001b[1;31mClick <a href='https://aka.ms/vscodeJupyterKernelCrash'>here</a> for more info. \n",
      "\u001b[1;31mView Jupyter <a href='command:jupyter.viewOutput'>log</a> for further details."
     ]
    }
   ],
   "source": [
    "embedding = HuggingFaceEmbeddings(model_name=\"intfloat/multilingual-e5-large-instruct\",model_kwargs={\"device\": \"cuda\"})\n",
    "chroma_db = Chroma(\n",
    "    persist_directory=\"./chroma_capstone_db_new\",\n",
    "    embedding_function=embedding,\n",
    "    collection_name=\"Coconut\"  # Specify which collection to load\n",
    ")"
   ]
  },
  {
   "cell_type": "code",
   "execution_count": null,
   "id": "ca3786d3",
   "metadata": {},
   "outputs": [],
   "source": [
    "import chromadb\n",
    "\n",
    "# Connect to the same persisted DB\n",
    "client = chromadb.PersistentClient(path=\"./chroma_capstone_db_new\")"
   ]
  },
  {
   "cell_type": "code",
   "execution_count": null,
   "id": "c27b31a5",
   "metadata": {},
   "outputs": [
    {
     "name": "stdout",
     "output_type": "stream",
     "text": [
      "Tomato\n"
     ]
    }
   ],
   "source": [
    "collections = client.list_collections()\n",
    "\n",
    "for c in collections:\n",
    "    print(c.name)  "
   ]
  }
 ],
 "metadata": {
  "kernelspec": {
   "display_name": "Python 3",
   "language": "python",
   "name": "python3"
  },
  "language_info": {
   "codemirror_mode": {
    "name": "ipython",
    "version": 3
   },
   "file_extension": ".py",
   "mimetype": "text/x-python",
   "name": "python",
   "nbconvert_exporter": "python",
   "pygments_lexer": "ipython3",
   "version": "3.10.0"
  }
 },
 "nbformat": 4,
 "nbformat_minor": 5
}
